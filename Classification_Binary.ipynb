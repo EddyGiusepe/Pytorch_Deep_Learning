{
  "nbformat": 4,
  "nbformat_minor": 0,
  "metadata": {
    "colab": {
      "name": "Classification_Binary.ipynb",
      "provenance": [],
      "collapsed_sections": [],
      "machine_shape": "hm",
      "mount_file_id": "1Dtj3MuvRSLNMl1rC4O7ZkEqBQXopVEh_",
      "authorship_tag": "ABX9TyOsoagjuqjy3aSp8IlFISzl",
      "include_colab_link": true
    },
    "kernelspec": {
      "name": "python3",
      "display_name": "Python 3"
    },
    "language_info": {
      "name": "python"
    },
    "accelerator": "GPU"
  },
  "cells": [
    {
      "cell_type": "markdown",
      "metadata": {
        "id": "view-in-github",
        "colab_type": "text"
      },
      "source": [
        "<a href=\"https://colab.research.google.com/github/EddyGiusepe/Pytorch_Deep_Learning/blob/main/Classification_Binary.ipynb\" target=\"_parent\"><img src=\"https://colab.research.google.com/assets/colab-badge.svg\" alt=\"Open In Colab\"/></a>"
      ]
    },
    {
      "cell_type": "markdown",
      "source": [
        "# <h2 align='center'>Classificação binária, Breast Cancer, com Pytorch</h2>\n",
        "\n",
        "\n",
        "Data Scientist.: Dr.Eddy Giusepe Chirinos Isidro"
      ],
      "metadata": {
        "id": "QjhPRZqKlDRA"
      }
    },
    {
      "cell_type": "markdown",
      "source": [
        "Este Script está baseado no seguinte vídeo: [Classificação Binária com Pytorch](https://www.youtube.com/watch?v=cZf3CMdUKIY&t=38s)."
      ],
      "metadata": {
        "id": "ed84xvY9lhxT"
      }
    },
    {
      "cell_type": "markdown",
      "source": [
        "## Importação das bibliotecas"
      ],
      "metadata": {
        "id": "nKWAc4EMmBpv"
      }
    },
    {
      "cell_type": "code",
      "execution_count": 2,
      "metadata": {
        "colab": {
          "base_uri": "https://localhost:8080/",
          "height": 35
        },
        "id": "CVo43XK3k9h2",
        "outputId": "12d0be72-e864-45e5-d5e0-4faba75b06be"
      },
      "outputs": [
        {
          "output_type": "execute_result",
          "data": {
            "text/plain": [
              "'1.10.0+cu111'"
            ],
            "application/vnd.google.colaboratory.intrinsic+json": {
              "type": "string"
            }
          },
          "metadata": {},
          "execution_count": 2
        }
      ],
      "source": [
        "import pandas as pd \n",
        "import numpy as np\n",
        "import seaborn as sns\n",
        "\n",
        "from sklearn.model_selection import train_test_split\n",
        "from sklearn.metrics import confusion_matrix, accuracy_score\n",
        "from sklearn.preprocessing import LabelEncoder\n",
        "\n",
        "import torch\n",
        "import torch.nn as nn\n",
        "torch.__version__\n"
      ]
    },
    {
      "cell_type": "markdown",
      "source": [
        "## Base de Dados"
      ],
      "metadata": {
        "id": "jLTRneJmm60i"
      }
    },
    {
      "cell_type": "code",
      "source": [
        "np.random.seed(123)\n",
        "\n",
        "torch.manual_seed(123)"
      ],
      "metadata": {
        "colab": {
          "base_uri": "https://localhost:8080/"
        },
        "id": "8tWSeIaGmZPu",
        "outputId": "7bf2cca1-cacc-4abb-b4bc-a53974a4e972"
      },
      "execution_count": 3,
      "outputs": [
        {
          "output_type": "execute_result",
          "data": {
            "text/plain": [
              "<torch._C.Generator at 0x7f885a4eb4b0>"
            ]
          },
          "metadata": {},
          "execution_count": 3
        }
      ]
    },
    {
      "cell_type": "code",
      "source": [
        "Dataset = pd.read_csv('/content/drive/MyDrive/2_DEEP_LEARNING_REDES_NEURAIS_Jorge/1_Pytorch_Deep_Learning/Pytorch_examples/data_breast_cancer.csv')\n",
        "\n",
        "Dataset.head(6)\n"
      ],
      "metadata": {
        "colab": {
          "base_uri": "https://localhost:8080/",
          "height": 348
        },
        "id": "2_dF6Lh6nY-B",
        "outputId": "1c3f572a-7cce-4ed2-a293-0c7b3ed2cab1"
      },
      "execution_count": 4,
      "outputs": [
        {
          "output_type": "execute_result",
          "data": {
            "text/plain": [
              "         id diagnosis  radius_mean  texture_mean  perimeter_mean  area_mean  \\\n",
              "0    842302         M        17.99         10.38          122.80     1001.0   \n",
              "1    842517         M        20.57         17.77          132.90     1326.0   \n",
              "2  84300903         M        19.69         21.25          130.00     1203.0   \n",
              "3  84348301         M        11.42         20.38           77.58      386.1   \n",
              "4  84358402         M        20.29         14.34          135.10     1297.0   \n",
              "5    843786         M        12.45         15.70           82.57      477.1   \n",
              "\n",
              "   smoothness_mean  compactness_mean  concavity_mean  concave points_mean  \\\n",
              "0          0.11840           0.27760          0.3001              0.14710   \n",
              "1          0.08474           0.07864          0.0869              0.07017   \n",
              "2          0.10960           0.15990          0.1974              0.12790   \n",
              "3          0.14250           0.28390          0.2414              0.10520   \n",
              "4          0.10030           0.13280          0.1980              0.10430   \n",
              "5          0.12780           0.17000          0.1578              0.08089   \n",
              "\n",
              "   ...  texture_worst  perimeter_worst  area_worst  smoothness_worst  \\\n",
              "0  ...          17.33           184.60      2019.0            0.1622   \n",
              "1  ...          23.41           158.80      1956.0            0.1238   \n",
              "2  ...          25.53           152.50      1709.0            0.1444   \n",
              "3  ...          26.50            98.87       567.7            0.2098   \n",
              "4  ...          16.67           152.20      1575.0            0.1374   \n",
              "5  ...          23.75           103.40       741.6            0.1791   \n",
              "\n",
              "   compactness_worst  concavity_worst  concave points_worst  symmetry_worst  \\\n",
              "0             0.6656           0.7119                0.2654          0.4601   \n",
              "1             0.1866           0.2416                0.1860          0.2750   \n",
              "2             0.4245           0.4504                0.2430          0.3613   \n",
              "3             0.8663           0.6869                0.2575          0.6638   \n",
              "4             0.2050           0.4000                0.1625          0.2364   \n",
              "5             0.5249           0.5355                0.1741          0.3985   \n",
              "\n",
              "   fractal_dimension_worst  Unnamed: 32  \n",
              "0                  0.11890          NaN  \n",
              "1                  0.08902          NaN  \n",
              "2                  0.08758          NaN  \n",
              "3                  0.17300          NaN  \n",
              "4                  0.07678          NaN  \n",
              "5                  0.12440          NaN  \n",
              "\n",
              "[6 rows x 33 columns]"
            ],
            "text/html": [
              "\n",
              "  <div id=\"df-30a82490-23aa-4a0c-9015-bc4ca2b4c8c2\">\n",
              "    <div class=\"colab-df-container\">\n",
              "      <div>\n",
              "<style scoped>\n",
              "    .dataframe tbody tr th:only-of-type {\n",
              "        vertical-align: middle;\n",
              "    }\n",
              "\n",
              "    .dataframe tbody tr th {\n",
              "        vertical-align: top;\n",
              "    }\n",
              "\n",
              "    .dataframe thead th {\n",
              "        text-align: right;\n",
              "    }\n",
              "</style>\n",
              "<table border=\"1\" class=\"dataframe\">\n",
              "  <thead>\n",
              "    <tr style=\"text-align: right;\">\n",
              "      <th></th>\n",
              "      <th>id</th>\n",
              "      <th>diagnosis</th>\n",
              "      <th>radius_mean</th>\n",
              "      <th>texture_mean</th>\n",
              "      <th>perimeter_mean</th>\n",
              "      <th>area_mean</th>\n",
              "      <th>smoothness_mean</th>\n",
              "      <th>compactness_mean</th>\n",
              "      <th>concavity_mean</th>\n",
              "      <th>concave points_mean</th>\n",
              "      <th>...</th>\n",
              "      <th>texture_worst</th>\n",
              "      <th>perimeter_worst</th>\n",
              "      <th>area_worst</th>\n",
              "      <th>smoothness_worst</th>\n",
              "      <th>compactness_worst</th>\n",
              "      <th>concavity_worst</th>\n",
              "      <th>concave points_worst</th>\n",
              "      <th>symmetry_worst</th>\n",
              "      <th>fractal_dimension_worst</th>\n",
              "      <th>Unnamed: 32</th>\n",
              "    </tr>\n",
              "  </thead>\n",
              "  <tbody>\n",
              "    <tr>\n",
              "      <th>0</th>\n",
              "      <td>842302</td>\n",
              "      <td>M</td>\n",
              "      <td>17.99</td>\n",
              "      <td>10.38</td>\n",
              "      <td>122.80</td>\n",
              "      <td>1001.0</td>\n",
              "      <td>0.11840</td>\n",
              "      <td>0.27760</td>\n",
              "      <td>0.3001</td>\n",
              "      <td>0.14710</td>\n",
              "      <td>...</td>\n",
              "      <td>17.33</td>\n",
              "      <td>184.60</td>\n",
              "      <td>2019.0</td>\n",
              "      <td>0.1622</td>\n",
              "      <td>0.6656</td>\n",
              "      <td>0.7119</td>\n",
              "      <td>0.2654</td>\n",
              "      <td>0.4601</td>\n",
              "      <td>0.11890</td>\n",
              "      <td>NaN</td>\n",
              "    </tr>\n",
              "    <tr>\n",
              "      <th>1</th>\n",
              "      <td>842517</td>\n",
              "      <td>M</td>\n",
              "      <td>20.57</td>\n",
              "      <td>17.77</td>\n",
              "      <td>132.90</td>\n",
              "      <td>1326.0</td>\n",
              "      <td>0.08474</td>\n",
              "      <td>0.07864</td>\n",
              "      <td>0.0869</td>\n",
              "      <td>0.07017</td>\n",
              "      <td>...</td>\n",
              "      <td>23.41</td>\n",
              "      <td>158.80</td>\n",
              "      <td>1956.0</td>\n",
              "      <td>0.1238</td>\n",
              "      <td>0.1866</td>\n",
              "      <td>0.2416</td>\n",
              "      <td>0.1860</td>\n",
              "      <td>0.2750</td>\n",
              "      <td>0.08902</td>\n",
              "      <td>NaN</td>\n",
              "    </tr>\n",
              "    <tr>\n",
              "      <th>2</th>\n",
              "      <td>84300903</td>\n",
              "      <td>M</td>\n",
              "      <td>19.69</td>\n",
              "      <td>21.25</td>\n",
              "      <td>130.00</td>\n",
              "      <td>1203.0</td>\n",
              "      <td>0.10960</td>\n",
              "      <td>0.15990</td>\n",
              "      <td>0.1974</td>\n",
              "      <td>0.12790</td>\n",
              "      <td>...</td>\n",
              "      <td>25.53</td>\n",
              "      <td>152.50</td>\n",
              "      <td>1709.0</td>\n",
              "      <td>0.1444</td>\n",
              "      <td>0.4245</td>\n",
              "      <td>0.4504</td>\n",
              "      <td>0.2430</td>\n",
              "      <td>0.3613</td>\n",
              "      <td>0.08758</td>\n",
              "      <td>NaN</td>\n",
              "    </tr>\n",
              "    <tr>\n",
              "      <th>3</th>\n",
              "      <td>84348301</td>\n",
              "      <td>M</td>\n",
              "      <td>11.42</td>\n",
              "      <td>20.38</td>\n",
              "      <td>77.58</td>\n",
              "      <td>386.1</td>\n",
              "      <td>0.14250</td>\n",
              "      <td>0.28390</td>\n",
              "      <td>0.2414</td>\n",
              "      <td>0.10520</td>\n",
              "      <td>...</td>\n",
              "      <td>26.50</td>\n",
              "      <td>98.87</td>\n",
              "      <td>567.7</td>\n",
              "      <td>0.2098</td>\n",
              "      <td>0.8663</td>\n",
              "      <td>0.6869</td>\n",
              "      <td>0.2575</td>\n",
              "      <td>0.6638</td>\n",
              "      <td>0.17300</td>\n",
              "      <td>NaN</td>\n",
              "    </tr>\n",
              "    <tr>\n",
              "      <th>4</th>\n",
              "      <td>84358402</td>\n",
              "      <td>M</td>\n",
              "      <td>20.29</td>\n",
              "      <td>14.34</td>\n",
              "      <td>135.10</td>\n",
              "      <td>1297.0</td>\n",
              "      <td>0.10030</td>\n",
              "      <td>0.13280</td>\n",
              "      <td>0.1980</td>\n",
              "      <td>0.10430</td>\n",
              "      <td>...</td>\n",
              "      <td>16.67</td>\n",
              "      <td>152.20</td>\n",
              "      <td>1575.0</td>\n",
              "      <td>0.1374</td>\n",
              "      <td>0.2050</td>\n",
              "      <td>0.4000</td>\n",
              "      <td>0.1625</td>\n",
              "      <td>0.2364</td>\n",
              "      <td>0.07678</td>\n",
              "      <td>NaN</td>\n",
              "    </tr>\n",
              "    <tr>\n",
              "      <th>5</th>\n",
              "      <td>843786</td>\n",
              "      <td>M</td>\n",
              "      <td>12.45</td>\n",
              "      <td>15.70</td>\n",
              "      <td>82.57</td>\n",
              "      <td>477.1</td>\n",
              "      <td>0.12780</td>\n",
              "      <td>0.17000</td>\n",
              "      <td>0.1578</td>\n",
              "      <td>0.08089</td>\n",
              "      <td>...</td>\n",
              "      <td>23.75</td>\n",
              "      <td>103.40</td>\n",
              "      <td>741.6</td>\n",
              "      <td>0.1791</td>\n",
              "      <td>0.5249</td>\n",
              "      <td>0.5355</td>\n",
              "      <td>0.1741</td>\n",
              "      <td>0.3985</td>\n",
              "      <td>0.12440</td>\n",
              "      <td>NaN</td>\n",
              "    </tr>\n",
              "  </tbody>\n",
              "</table>\n",
              "<p>6 rows × 33 columns</p>\n",
              "</div>\n",
              "      <button class=\"colab-df-convert\" onclick=\"convertToInteractive('df-30a82490-23aa-4a0c-9015-bc4ca2b4c8c2')\"\n",
              "              title=\"Convert this dataframe to an interactive table.\"\n",
              "              style=\"display:none;\">\n",
              "        \n",
              "  <svg xmlns=\"http://www.w3.org/2000/svg\" height=\"24px\"viewBox=\"0 0 24 24\"\n",
              "       width=\"24px\">\n",
              "    <path d=\"M0 0h24v24H0V0z\" fill=\"none\"/>\n",
              "    <path d=\"M18.56 5.44l.94 2.06.94-2.06 2.06-.94-2.06-.94-.94-2.06-.94 2.06-2.06.94zm-11 1L8.5 8.5l.94-2.06 2.06-.94-2.06-.94L8.5 2.5l-.94 2.06-2.06.94zm10 10l.94 2.06.94-2.06 2.06-.94-2.06-.94-.94-2.06-.94 2.06-2.06.94z\"/><path d=\"M17.41 7.96l-1.37-1.37c-.4-.4-.92-.59-1.43-.59-.52 0-1.04.2-1.43.59L10.3 9.45l-7.72 7.72c-.78.78-.78 2.05 0 2.83L4 21.41c.39.39.9.59 1.41.59.51 0 1.02-.2 1.41-.59l7.78-7.78 2.81-2.81c.8-.78.8-2.07 0-2.86zM5.41 20L4 18.59l7.72-7.72 1.47 1.35L5.41 20z\"/>\n",
              "  </svg>\n",
              "      </button>\n",
              "      \n",
              "  <style>\n",
              "    .colab-df-container {\n",
              "      display:flex;\n",
              "      flex-wrap:wrap;\n",
              "      gap: 12px;\n",
              "    }\n",
              "\n",
              "    .colab-df-convert {\n",
              "      background-color: #E8F0FE;\n",
              "      border: none;\n",
              "      border-radius: 50%;\n",
              "      cursor: pointer;\n",
              "      display: none;\n",
              "      fill: #1967D2;\n",
              "      height: 32px;\n",
              "      padding: 0 0 0 0;\n",
              "      width: 32px;\n",
              "    }\n",
              "\n",
              "    .colab-df-convert:hover {\n",
              "      background-color: #E2EBFA;\n",
              "      box-shadow: 0px 1px 2px rgba(60, 64, 67, 0.3), 0px 1px 3px 1px rgba(60, 64, 67, 0.15);\n",
              "      fill: #174EA6;\n",
              "    }\n",
              "\n",
              "    [theme=dark] .colab-df-convert {\n",
              "      background-color: #3B4455;\n",
              "      fill: #D2E3FC;\n",
              "    }\n",
              "\n",
              "    [theme=dark] .colab-df-convert:hover {\n",
              "      background-color: #434B5C;\n",
              "      box-shadow: 0px 1px 3px 1px rgba(0, 0, 0, 0.15);\n",
              "      filter: drop-shadow(0px 1px 2px rgba(0, 0, 0, 0.3));\n",
              "      fill: #FFFFFF;\n",
              "    }\n",
              "  </style>\n",
              "\n",
              "      <script>\n",
              "        const buttonEl =\n",
              "          document.querySelector('#df-30a82490-23aa-4a0c-9015-bc4ca2b4c8c2 button.colab-df-convert');\n",
              "        buttonEl.style.display =\n",
              "          google.colab.kernel.accessAllowed ? 'block' : 'none';\n",
              "\n",
              "        async function convertToInteractive(key) {\n",
              "          const element = document.querySelector('#df-30a82490-23aa-4a0c-9015-bc4ca2b4c8c2');\n",
              "          const dataTable =\n",
              "            await google.colab.kernel.invokeFunction('convertToInteractive',\n",
              "                                                     [key], {});\n",
              "          if (!dataTable) return;\n",
              "\n",
              "          const docLinkHtml = 'Like what you see? Visit the ' +\n",
              "            '<a target=\"_blank\" href=https://colab.research.google.com/notebooks/data_table.ipynb>data table notebook</a>'\n",
              "            + ' to learn more about interactive tables.';\n",
              "          element.innerHTML = '';\n",
              "          dataTable['output_type'] = 'display_data';\n",
              "          await google.colab.output.renderOutput(dataTable, element);\n",
              "          const docLink = document.createElement('div');\n",
              "          docLink.innerHTML = docLinkHtml;\n",
              "          element.appendChild(docLink);\n",
              "        }\n",
              "      </script>\n",
              "    </div>\n",
              "  </div>\n",
              "  "
            ]
          },
          "metadata": {},
          "execution_count": 4
        }
      ]
    },
    {
      "cell_type": "code",
      "source": [
        "# Criando a classe\n",
        "\n",
        "# creating instance of labelencoder\n",
        "labelencoder = LabelEncoder()\n",
        "\n",
        "classe = pd.DataFrame(labelencoder.fit_transform(Dataset['diagnosis']))\n",
        "classe.sample(6)"
      ],
      "metadata": {
        "colab": {
          "base_uri": "https://localhost:8080/",
          "height": 238
        },
        "id": "2Mwp6K_Roa3E",
        "outputId": "27e0a277-960c-4b10-c568-d20c08bf744e"
      },
      "execution_count": 5,
      "outputs": [
        {
          "output_type": "execute_result",
          "data": {
            "text/plain": [
              "     0\n",
              "333  0\n",
              "273  0\n",
              "201  1\n",
              "178  0\n",
              "85   1\n",
              "500  0"
            ],
            "text/html": [
              "\n",
              "  <div id=\"df-443d3d5e-669a-4f09-8a48-b6ae7a0963d1\">\n",
              "    <div class=\"colab-df-container\">\n",
              "      <div>\n",
              "<style scoped>\n",
              "    .dataframe tbody tr th:only-of-type {\n",
              "        vertical-align: middle;\n",
              "    }\n",
              "\n",
              "    .dataframe tbody tr th {\n",
              "        vertical-align: top;\n",
              "    }\n",
              "\n",
              "    .dataframe thead th {\n",
              "        text-align: right;\n",
              "    }\n",
              "</style>\n",
              "<table border=\"1\" class=\"dataframe\">\n",
              "  <thead>\n",
              "    <tr style=\"text-align: right;\">\n",
              "      <th></th>\n",
              "      <th>0</th>\n",
              "    </tr>\n",
              "  </thead>\n",
              "  <tbody>\n",
              "    <tr>\n",
              "      <th>333</th>\n",
              "      <td>0</td>\n",
              "    </tr>\n",
              "    <tr>\n",
              "      <th>273</th>\n",
              "      <td>0</td>\n",
              "    </tr>\n",
              "    <tr>\n",
              "      <th>201</th>\n",
              "      <td>1</td>\n",
              "    </tr>\n",
              "    <tr>\n",
              "      <th>178</th>\n",
              "      <td>0</td>\n",
              "    </tr>\n",
              "    <tr>\n",
              "      <th>85</th>\n",
              "      <td>1</td>\n",
              "    </tr>\n",
              "    <tr>\n",
              "      <th>500</th>\n",
              "      <td>0</td>\n",
              "    </tr>\n",
              "  </tbody>\n",
              "</table>\n",
              "</div>\n",
              "      <button class=\"colab-df-convert\" onclick=\"convertToInteractive('df-443d3d5e-669a-4f09-8a48-b6ae7a0963d1')\"\n",
              "              title=\"Convert this dataframe to an interactive table.\"\n",
              "              style=\"display:none;\">\n",
              "        \n",
              "  <svg xmlns=\"http://www.w3.org/2000/svg\" height=\"24px\"viewBox=\"0 0 24 24\"\n",
              "       width=\"24px\">\n",
              "    <path d=\"M0 0h24v24H0V0z\" fill=\"none\"/>\n",
              "    <path d=\"M18.56 5.44l.94 2.06.94-2.06 2.06-.94-2.06-.94-.94-2.06-.94 2.06-2.06.94zm-11 1L8.5 8.5l.94-2.06 2.06-.94-2.06-.94L8.5 2.5l-.94 2.06-2.06.94zm10 10l.94 2.06.94-2.06 2.06-.94-2.06-.94-.94-2.06-.94 2.06-2.06.94z\"/><path d=\"M17.41 7.96l-1.37-1.37c-.4-.4-.92-.59-1.43-.59-.52 0-1.04.2-1.43.59L10.3 9.45l-7.72 7.72c-.78.78-.78 2.05 0 2.83L4 21.41c.39.39.9.59 1.41.59.51 0 1.02-.2 1.41-.59l7.78-7.78 2.81-2.81c.8-.78.8-2.07 0-2.86zM5.41 20L4 18.59l7.72-7.72 1.47 1.35L5.41 20z\"/>\n",
              "  </svg>\n",
              "      </button>\n",
              "      \n",
              "  <style>\n",
              "    .colab-df-container {\n",
              "      display:flex;\n",
              "      flex-wrap:wrap;\n",
              "      gap: 12px;\n",
              "    }\n",
              "\n",
              "    .colab-df-convert {\n",
              "      background-color: #E8F0FE;\n",
              "      border: none;\n",
              "      border-radius: 50%;\n",
              "      cursor: pointer;\n",
              "      display: none;\n",
              "      fill: #1967D2;\n",
              "      height: 32px;\n",
              "      padding: 0 0 0 0;\n",
              "      width: 32px;\n",
              "    }\n",
              "\n",
              "    .colab-df-convert:hover {\n",
              "      background-color: #E2EBFA;\n",
              "      box-shadow: 0px 1px 2px rgba(60, 64, 67, 0.3), 0px 1px 3px 1px rgba(60, 64, 67, 0.15);\n",
              "      fill: #174EA6;\n",
              "    }\n",
              "\n",
              "    [theme=dark] .colab-df-convert {\n",
              "      background-color: #3B4455;\n",
              "      fill: #D2E3FC;\n",
              "    }\n",
              "\n",
              "    [theme=dark] .colab-df-convert:hover {\n",
              "      background-color: #434B5C;\n",
              "      box-shadow: 0px 1px 3px 1px rgba(0, 0, 0, 0.15);\n",
              "      filter: drop-shadow(0px 1px 2px rgba(0, 0, 0, 0.3));\n",
              "      fill: #FFFFFF;\n",
              "    }\n",
              "  </style>\n",
              "\n",
              "      <script>\n",
              "        const buttonEl =\n",
              "          document.querySelector('#df-443d3d5e-669a-4f09-8a48-b6ae7a0963d1 button.colab-df-convert');\n",
              "        buttonEl.style.display =\n",
              "          google.colab.kernel.accessAllowed ? 'block' : 'none';\n",
              "\n",
              "        async function convertToInteractive(key) {\n",
              "          const element = document.querySelector('#df-443d3d5e-669a-4f09-8a48-b6ae7a0963d1');\n",
              "          const dataTable =\n",
              "            await google.colab.kernel.invokeFunction('convertToInteractive',\n",
              "                                                     [key], {});\n",
              "          if (!dataTable) return;\n",
              "\n",
              "          const docLinkHtml = 'Like what you see? Visit the ' +\n",
              "            '<a target=\"_blank\" href=https://colab.research.google.com/notebooks/data_table.ipynb>data table notebook</a>'\n",
              "            + ' to learn more about interactive tables.';\n",
              "          element.innerHTML = '';\n",
              "          dataTable['output_type'] = 'display_data';\n",
              "          await google.colab.output.renderOutput(dataTable, element);\n",
              "          const docLink = document.createElement('div');\n",
              "          docLink.innerHTML = docLinkHtml;\n",
              "          element.appendChild(docLink);\n",
              "        }\n",
              "      </script>\n",
              "    </div>\n",
              "  </div>\n",
              "  "
            ]
          },
          "metadata": {},
          "execution_count": 5
        }
      ]
    },
    {
      "cell_type": "code",
      "source": [
        "# criando os previsores\n",
        "\n",
        "previsores = Dataset.drop(columns=['id', 'diagnosis', 'Unnamed: 32'])\n",
        "# previsores = Dataset.drop(['id', 'diagnosis', 'Unnamed: 32'], axis=1, inplace=True) --> Assim não funcionou não\n"
      ],
      "metadata": {
        "id": "eHJCEpbpr3Bn"
      },
      "execution_count": 6,
      "outputs": []
    },
    {
      "cell_type": "code",
      "source": [
        "previsores.head()"
      ],
      "metadata": {
        "colab": {
          "base_uri": "https://localhost:8080/",
          "height": 317
        },
        "id": "4bWPeaPkv5sy",
        "outputId": "4bbc2843-00e8-4b37-cabd-c61d32839d20"
      },
      "execution_count": 7,
      "outputs": [
        {
          "output_type": "execute_result",
          "data": {
            "text/plain": [
              "   radius_mean  texture_mean  perimeter_mean  area_mean  smoothness_mean  \\\n",
              "0        17.99         10.38          122.80     1001.0          0.11840   \n",
              "1        20.57         17.77          132.90     1326.0          0.08474   \n",
              "2        19.69         21.25          130.00     1203.0          0.10960   \n",
              "3        11.42         20.38           77.58      386.1          0.14250   \n",
              "4        20.29         14.34          135.10     1297.0          0.10030   \n",
              "\n",
              "   compactness_mean  concavity_mean  concave points_mean  symmetry_mean  \\\n",
              "0           0.27760          0.3001              0.14710         0.2419   \n",
              "1           0.07864          0.0869              0.07017         0.1812   \n",
              "2           0.15990          0.1974              0.12790         0.2069   \n",
              "3           0.28390          0.2414              0.10520         0.2597   \n",
              "4           0.13280          0.1980              0.10430         0.1809   \n",
              "\n",
              "   fractal_dimension_mean  ...  radius_worst  texture_worst  perimeter_worst  \\\n",
              "0                 0.07871  ...         25.38          17.33           184.60   \n",
              "1                 0.05667  ...         24.99          23.41           158.80   \n",
              "2                 0.05999  ...         23.57          25.53           152.50   \n",
              "3                 0.09744  ...         14.91          26.50            98.87   \n",
              "4                 0.05883  ...         22.54          16.67           152.20   \n",
              "\n",
              "   area_worst  smoothness_worst  compactness_worst  concavity_worst  \\\n",
              "0      2019.0            0.1622             0.6656           0.7119   \n",
              "1      1956.0            0.1238             0.1866           0.2416   \n",
              "2      1709.0            0.1444             0.4245           0.4504   \n",
              "3       567.7            0.2098             0.8663           0.6869   \n",
              "4      1575.0            0.1374             0.2050           0.4000   \n",
              "\n",
              "   concave points_worst  symmetry_worst  fractal_dimension_worst  \n",
              "0                0.2654          0.4601                  0.11890  \n",
              "1                0.1860          0.2750                  0.08902  \n",
              "2                0.2430          0.3613                  0.08758  \n",
              "3                0.2575          0.6638                  0.17300  \n",
              "4                0.1625          0.2364                  0.07678  \n",
              "\n",
              "[5 rows x 30 columns]"
            ],
            "text/html": [
              "\n",
              "  <div id=\"df-0aca7be7-bfe7-4b80-8342-9e9ea147f73a\">\n",
              "    <div class=\"colab-df-container\">\n",
              "      <div>\n",
              "<style scoped>\n",
              "    .dataframe tbody tr th:only-of-type {\n",
              "        vertical-align: middle;\n",
              "    }\n",
              "\n",
              "    .dataframe tbody tr th {\n",
              "        vertical-align: top;\n",
              "    }\n",
              "\n",
              "    .dataframe thead th {\n",
              "        text-align: right;\n",
              "    }\n",
              "</style>\n",
              "<table border=\"1\" class=\"dataframe\">\n",
              "  <thead>\n",
              "    <tr style=\"text-align: right;\">\n",
              "      <th></th>\n",
              "      <th>radius_mean</th>\n",
              "      <th>texture_mean</th>\n",
              "      <th>perimeter_mean</th>\n",
              "      <th>area_mean</th>\n",
              "      <th>smoothness_mean</th>\n",
              "      <th>compactness_mean</th>\n",
              "      <th>concavity_mean</th>\n",
              "      <th>concave points_mean</th>\n",
              "      <th>symmetry_mean</th>\n",
              "      <th>fractal_dimension_mean</th>\n",
              "      <th>...</th>\n",
              "      <th>radius_worst</th>\n",
              "      <th>texture_worst</th>\n",
              "      <th>perimeter_worst</th>\n",
              "      <th>area_worst</th>\n",
              "      <th>smoothness_worst</th>\n",
              "      <th>compactness_worst</th>\n",
              "      <th>concavity_worst</th>\n",
              "      <th>concave points_worst</th>\n",
              "      <th>symmetry_worst</th>\n",
              "      <th>fractal_dimension_worst</th>\n",
              "    </tr>\n",
              "  </thead>\n",
              "  <tbody>\n",
              "    <tr>\n",
              "      <th>0</th>\n",
              "      <td>17.99</td>\n",
              "      <td>10.38</td>\n",
              "      <td>122.80</td>\n",
              "      <td>1001.0</td>\n",
              "      <td>0.11840</td>\n",
              "      <td>0.27760</td>\n",
              "      <td>0.3001</td>\n",
              "      <td>0.14710</td>\n",
              "      <td>0.2419</td>\n",
              "      <td>0.07871</td>\n",
              "      <td>...</td>\n",
              "      <td>25.38</td>\n",
              "      <td>17.33</td>\n",
              "      <td>184.60</td>\n",
              "      <td>2019.0</td>\n",
              "      <td>0.1622</td>\n",
              "      <td>0.6656</td>\n",
              "      <td>0.7119</td>\n",
              "      <td>0.2654</td>\n",
              "      <td>0.4601</td>\n",
              "      <td>0.11890</td>\n",
              "    </tr>\n",
              "    <tr>\n",
              "      <th>1</th>\n",
              "      <td>20.57</td>\n",
              "      <td>17.77</td>\n",
              "      <td>132.90</td>\n",
              "      <td>1326.0</td>\n",
              "      <td>0.08474</td>\n",
              "      <td>0.07864</td>\n",
              "      <td>0.0869</td>\n",
              "      <td>0.07017</td>\n",
              "      <td>0.1812</td>\n",
              "      <td>0.05667</td>\n",
              "      <td>...</td>\n",
              "      <td>24.99</td>\n",
              "      <td>23.41</td>\n",
              "      <td>158.80</td>\n",
              "      <td>1956.0</td>\n",
              "      <td>0.1238</td>\n",
              "      <td>0.1866</td>\n",
              "      <td>0.2416</td>\n",
              "      <td>0.1860</td>\n",
              "      <td>0.2750</td>\n",
              "      <td>0.08902</td>\n",
              "    </tr>\n",
              "    <tr>\n",
              "      <th>2</th>\n",
              "      <td>19.69</td>\n",
              "      <td>21.25</td>\n",
              "      <td>130.00</td>\n",
              "      <td>1203.0</td>\n",
              "      <td>0.10960</td>\n",
              "      <td>0.15990</td>\n",
              "      <td>0.1974</td>\n",
              "      <td>0.12790</td>\n",
              "      <td>0.2069</td>\n",
              "      <td>0.05999</td>\n",
              "      <td>...</td>\n",
              "      <td>23.57</td>\n",
              "      <td>25.53</td>\n",
              "      <td>152.50</td>\n",
              "      <td>1709.0</td>\n",
              "      <td>0.1444</td>\n",
              "      <td>0.4245</td>\n",
              "      <td>0.4504</td>\n",
              "      <td>0.2430</td>\n",
              "      <td>0.3613</td>\n",
              "      <td>0.08758</td>\n",
              "    </tr>\n",
              "    <tr>\n",
              "      <th>3</th>\n",
              "      <td>11.42</td>\n",
              "      <td>20.38</td>\n",
              "      <td>77.58</td>\n",
              "      <td>386.1</td>\n",
              "      <td>0.14250</td>\n",
              "      <td>0.28390</td>\n",
              "      <td>0.2414</td>\n",
              "      <td>0.10520</td>\n",
              "      <td>0.2597</td>\n",
              "      <td>0.09744</td>\n",
              "      <td>...</td>\n",
              "      <td>14.91</td>\n",
              "      <td>26.50</td>\n",
              "      <td>98.87</td>\n",
              "      <td>567.7</td>\n",
              "      <td>0.2098</td>\n",
              "      <td>0.8663</td>\n",
              "      <td>0.6869</td>\n",
              "      <td>0.2575</td>\n",
              "      <td>0.6638</td>\n",
              "      <td>0.17300</td>\n",
              "    </tr>\n",
              "    <tr>\n",
              "      <th>4</th>\n",
              "      <td>20.29</td>\n",
              "      <td>14.34</td>\n",
              "      <td>135.10</td>\n",
              "      <td>1297.0</td>\n",
              "      <td>0.10030</td>\n",
              "      <td>0.13280</td>\n",
              "      <td>0.1980</td>\n",
              "      <td>0.10430</td>\n",
              "      <td>0.1809</td>\n",
              "      <td>0.05883</td>\n",
              "      <td>...</td>\n",
              "      <td>22.54</td>\n",
              "      <td>16.67</td>\n",
              "      <td>152.20</td>\n",
              "      <td>1575.0</td>\n",
              "      <td>0.1374</td>\n",
              "      <td>0.2050</td>\n",
              "      <td>0.4000</td>\n",
              "      <td>0.1625</td>\n",
              "      <td>0.2364</td>\n",
              "      <td>0.07678</td>\n",
              "    </tr>\n",
              "  </tbody>\n",
              "</table>\n",
              "<p>5 rows × 30 columns</p>\n",
              "</div>\n",
              "      <button class=\"colab-df-convert\" onclick=\"convertToInteractive('df-0aca7be7-bfe7-4b80-8342-9e9ea147f73a')\"\n",
              "              title=\"Convert this dataframe to an interactive table.\"\n",
              "              style=\"display:none;\">\n",
              "        \n",
              "  <svg xmlns=\"http://www.w3.org/2000/svg\" height=\"24px\"viewBox=\"0 0 24 24\"\n",
              "       width=\"24px\">\n",
              "    <path d=\"M0 0h24v24H0V0z\" fill=\"none\"/>\n",
              "    <path d=\"M18.56 5.44l.94 2.06.94-2.06 2.06-.94-2.06-.94-.94-2.06-.94 2.06-2.06.94zm-11 1L8.5 8.5l.94-2.06 2.06-.94-2.06-.94L8.5 2.5l-.94 2.06-2.06.94zm10 10l.94 2.06.94-2.06 2.06-.94-2.06-.94-.94-2.06-.94 2.06-2.06.94z\"/><path d=\"M17.41 7.96l-1.37-1.37c-.4-.4-.92-.59-1.43-.59-.52 0-1.04.2-1.43.59L10.3 9.45l-7.72 7.72c-.78.78-.78 2.05 0 2.83L4 21.41c.39.39.9.59 1.41.59.51 0 1.02-.2 1.41-.59l7.78-7.78 2.81-2.81c.8-.78.8-2.07 0-2.86zM5.41 20L4 18.59l7.72-7.72 1.47 1.35L5.41 20z\"/>\n",
              "  </svg>\n",
              "      </button>\n",
              "      \n",
              "  <style>\n",
              "    .colab-df-container {\n",
              "      display:flex;\n",
              "      flex-wrap:wrap;\n",
              "      gap: 12px;\n",
              "    }\n",
              "\n",
              "    .colab-df-convert {\n",
              "      background-color: #E8F0FE;\n",
              "      border: none;\n",
              "      border-radius: 50%;\n",
              "      cursor: pointer;\n",
              "      display: none;\n",
              "      fill: #1967D2;\n",
              "      height: 32px;\n",
              "      padding: 0 0 0 0;\n",
              "      width: 32px;\n",
              "    }\n",
              "\n",
              "    .colab-df-convert:hover {\n",
              "      background-color: #E2EBFA;\n",
              "      box-shadow: 0px 1px 2px rgba(60, 64, 67, 0.3), 0px 1px 3px 1px rgba(60, 64, 67, 0.15);\n",
              "      fill: #174EA6;\n",
              "    }\n",
              "\n",
              "    [theme=dark] .colab-df-convert {\n",
              "      background-color: #3B4455;\n",
              "      fill: #D2E3FC;\n",
              "    }\n",
              "\n",
              "    [theme=dark] .colab-df-convert:hover {\n",
              "      background-color: #434B5C;\n",
              "      box-shadow: 0px 1px 3px 1px rgba(0, 0, 0, 0.15);\n",
              "      filter: drop-shadow(0px 1px 2px rgba(0, 0, 0, 0.3));\n",
              "      fill: #FFFFFF;\n",
              "    }\n",
              "  </style>\n",
              "\n",
              "      <script>\n",
              "        const buttonEl =\n",
              "          document.querySelector('#df-0aca7be7-bfe7-4b80-8342-9e9ea147f73a button.colab-df-convert');\n",
              "        buttonEl.style.display =\n",
              "          google.colab.kernel.accessAllowed ? 'block' : 'none';\n",
              "\n",
              "        async function convertToInteractive(key) {\n",
              "          const element = document.querySelector('#df-0aca7be7-bfe7-4b80-8342-9e9ea147f73a');\n",
              "          const dataTable =\n",
              "            await google.colab.kernel.invokeFunction('convertToInteractive',\n",
              "                                                     [key], {});\n",
              "          if (!dataTable) return;\n",
              "\n",
              "          const docLinkHtml = 'Like what you see? Visit the ' +\n",
              "            '<a target=\"_blank\" href=https://colab.research.google.com/notebooks/data_table.ipynb>data table notebook</a>'\n",
              "            + ' to learn more about interactive tables.';\n",
              "          element.innerHTML = '';\n",
              "          dataTable['output_type'] = 'display_data';\n",
              "          await google.colab.output.renderOutput(dataTable, element);\n",
              "          const docLink = document.createElement('div');\n",
              "          docLink.innerHTML = docLinkHtml;\n",
              "          element.appendChild(docLink);\n",
              "        }\n",
              "      </script>\n",
              "    </div>\n",
              "  </div>\n",
              "  "
            ]
          },
          "metadata": {},
          "execution_count": 7
        }
      ]
    },
    {
      "cell_type": "code",
      "source": [
        "previsores.shape"
      ],
      "metadata": {
        "colab": {
          "base_uri": "https://localhost:8080/"
        },
        "id": "9luw691fzPs0",
        "outputId": "3dc62c60-80e0-426d-ccd7-c31e4ee08c62"
      },
      "execution_count": 8,
      "outputs": [
        {
          "output_type": "execute_result",
          "data": {
            "text/plain": [
              "(569, 30)"
            ]
          },
          "metadata": {},
          "execution_count": 8
        }
      ]
    },
    {
      "cell_type": "code",
      "source": [
        "# Convertemos para TENSORES \n",
        "previsores = torch.tensor(np.array(previsores), dtype=torch.float)\n",
        "\n",
        "classe = torch.tensor(np.array(classe), dtype=torch.float)\n"
      ],
      "metadata": {
        "id": "_jzUD8R2v63u"
      },
      "execution_count": 9,
      "outputs": []
    },
    {
      "cell_type": "code",
      "source": [
        "# Verificamos o TENSOR\n",
        "previsores.shape"
      ],
      "metadata": {
        "colab": {
          "base_uri": "https://localhost:8080/"
        },
        "id": "grzKlPHhzWwq",
        "outputId": "dd38577e-b79f-487a-ca4d-e9d2468607e1"
      },
      "execution_count": 10,
      "outputs": [
        {
          "output_type": "execute_result",
          "data": {
            "text/plain": [
              "torch.Size([569, 30])"
            ]
          },
          "metadata": {},
          "execution_count": 10
        }
      ]
    },
    {
      "cell_type": "code",
      "source": [
        "# Também\n",
        "type(previsores)"
      ],
      "metadata": {
        "colab": {
          "base_uri": "https://localhost:8080/"
        },
        "id": "TQ3wB-Svznkj",
        "outputId": "9283b2f7-83e0-4afc-9c80-896108a5611f"
      },
      "execution_count": 11,
      "outputs": [
        {
          "output_type": "execute_result",
          "data": {
            "text/plain": [
              "torch.Tensor"
            ]
          },
          "metadata": {},
          "execution_count": 11
        }
      ]
    },
    {
      "cell_type": "code",
      "source": [
        "previsores"
      ],
      "metadata": {
        "colab": {
          "base_uri": "https://localhost:8080/"
        },
        "id": "3yLIMc55yV1S",
        "outputId": "2c5532f9-66b2-4581-d41b-0442e61c6e33"
      },
      "execution_count": 12,
      "outputs": [
        {
          "output_type": "execute_result",
          "data": {
            "text/plain": [
              "tensor([[1.7990e+01, 1.0380e+01, 1.2280e+02,  ..., 2.6540e-01, 4.6010e-01,\n",
              "         1.1890e-01],\n",
              "        [2.0570e+01, 1.7770e+01, 1.3290e+02,  ..., 1.8600e-01, 2.7500e-01,\n",
              "         8.9020e-02],\n",
              "        [1.9690e+01, 2.1250e+01, 1.3000e+02,  ..., 2.4300e-01, 3.6130e-01,\n",
              "         8.7580e-02],\n",
              "        ...,\n",
              "        [1.6600e+01, 2.8080e+01, 1.0830e+02,  ..., 1.4180e-01, 2.2180e-01,\n",
              "         7.8200e-02],\n",
              "        [2.0600e+01, 2.9330e+01, 1.4010e+02,  ..., 2.6500e-01, 4.0870e-01,\n",
              "         1.2400e-01],\n",
              "        [7.7600e+00, 2.4540e+01, 4.7920e+01,  ..., 0.0000e+00, 2.8710e-01,\n",
              "         7.0390e-02]])"
            ]
          },
          "metadata": {},
          "execution_count": 12
        }
      ]
    },
    {
      "cell_type": "markdown",
      "source": [
        "## Transformação dos Dados para Tensores"
      ],
      "metadata": {
        "id": "_DabfjyHz6t8"
      }
    },
    {
      "cell_type": "code",
      "source": [
        "train_loader = torch.utils.data.DataLoader(torch.utils.data.TensorDataset(previsores, classe),\n",
        "                                           batch_size=10, shuffle=True) \n"
      ],
      "metadata": {
        "id": "3oKICafYzAOC"
      },
      "execution_count": 13,
      "outputs": []
    },
    {
      "cell_type": "code",
      "source": [
        "type(train_loader)"
      ],
      "metadata": {
        "colab": {
          "base_uri": "https://localhost:8080/"
        },
        "id": "ZDIig4hk0an2",
        "outputId": "cb554f8f-125c-468a-ea6f-087e615a0e8b"
      },
      "execution_count": 14,
      "outputs": [
        {
          "output_type": "execute_result",
          "data": {
            "text/plain": [
              "torch.utils.data.dataloader.DataLoader"
            ]
          },
          "metadata": {},
          "execution_count": 14
        }
      ]
    },
    {
      "cell_type": "markdown",
      "source": [
        "## Construção do Modelo"
      ],
      "metadata": {
        "id": "1SsHwB4j0ksO"
      }
    },
    {
      "cell_type": "code",
      "source": [
        "class classificador_torch(nn.Module):\n",
        "\n",
        "  def __init__(self):\n",
        "    super().__init__()\n",
        "    self.dense0 = nn.Linear(30, 8) # Camada de entrada \n",
        "    \n",
        "    # Mesmos parâmetros usados pelo Kernel initializer do Keras, https://keras.io/api/layers/initializers/ (ver sessão RandomNormal)\n",
        "    torch.nn.init.normal_(self.dense0.weight, mean=0.0, std=0.05)\n",
        "    self.dense1 = nn.Linear(8, 8) # Camada oculta\n",
        "    torch.nn.init.normal_(self.dense1.weight, mean=0.0, std=0.05)\n",
        "    self.dense2 = nn.Linear(8, 1) # Camada de saída\n",
        "\n",
        "    # https://iaexpert.academy/2020/05/25/funcoes-de-ativacao-definicao-caracteristicas-e-quando-usar-cada-uma/#:~:text=ReLU%20%C3%A9%20uma%20abrevia%C3%A7%C3%A3o%20para,n%C3%A3o%20%C3%A9%20centrada%20em%20zero.\n",
        "    self.activation = nn.ReLU()\n",
        "    self.dropout = nn.Dropout(0.2)\n",
        "    self.output =  nn.Sigmoid()\n",
        "\n",
        "  def forward(self, x): # Aqui fazemos a ligação de todas as camadas\n",
        "    x = self.dense0(x)\n",
        "    x = self.activation(x)\n",
        "    x = self.dropout(x)\n",
        "\n",
        "    x = self.dense1(x)\n",
        "    x = self.activation(x)\n",
        "    x = self.dropout(x)\n",
        "    \n",
        "    x = self.dense2(x)\n",
        "    x = self.output(x)\n",
        "\n",
        "    return x\n",
        "\n",
        "\n",
        "  "
      ],
      "metadata": {
        "id": "VoY_wDUD0eSD"
      },
      "execution_count": 15,
      "outputs": []
    },
    {
      "cell_type": "code",
      "source": [
        "# Instanciamos nosso Classificador\n",
        "\n",
        "classificador = classificador_torch()\n"
      ],
      "metadata": {
        "id": "Cq9e1vU1ATZl"
      },
      "execution_count": 16,
      "outputs": []
    },
    {
      "cell_type": "code",
      "source": [
        "# Estes foram escolhidos como os melhores... lá no GridSearch\n",
        "\n",
        "criterion = nn.BCELoss() # Binary Cross Entropy\n",
        "\n",
        "optimizer = torch.optim.Adam(classificador.parameters(), lr=0.001, weight_decay=0.0001)\n"
      ],
      "metadata": {
        "id": "hM9ZKuhuATXR"
      },
      "execution_count": 17,
      "outputs": []
    },
    {
      "cell_type": "markdown",
      "source": [
        "## Treinamento do Modelo"
      ],
      "metadata": {
        "id": "GHdpHSEkGnBH"
      }
    },
    {
      "cell_type": "code",
      "source": [
        "for epoch in range(100):\n",
        "  \n",
        "  running_loss = 0.\n",
        "\n",
        "  for data in train_loader:\n",
        "    inputs, labels = data\n",
        "    optimizer.zero_grad() # A cada repetição zeramos os gradientes\n",
        "\n",
        "    outputs = classificador(inputs)\n",
        "    loss = criterion(outputs, labels) # Aqui calcula o erro entre previsões (outputs) e valores reais (labels)\n",
        "    loss.backward() # Backpropagation\n",
        "    optimizer.step() # Aqui se faz a atualização dos pessos\n",
        "\n",
        "\n",
        "    running_loss += loss.item() # Aqui fazemos a acumulação do erro\n",
        "\n",
        "  print(\"Época %3d: perda %.5f\" % (epoch + 1, running_loss/len(train_loader)))\n",
        "\n",
        "# O objetivo é diminuir o valor do erro"
      ],
      "metadata": {
        "colab": {
          "base_uri": "https://localhost:8080/"
        },
        "id": "tdPbCUeGATVJ",
        "outputId": "979f6522-ba01-4c5c-903f-ea504bd0352f"
      },
      "execution_count": 18,
      "outputs": [
        {
          "output_type": "stream",
          "name": "stdout",
          "text": [
            "Época   1: perda 0.80943\n",
            "Época   2: perda 0.59553\n",
            "Época   3: perda 0.52935\n",
            "Época   4: perda 0.46409\n",
            "Época   5: perda 0.40749\n",
            "Época   6: perda 0.36988\n",
            "Época   7: perda 0.36225\n",
            "Época   8: perda 0.35697\n",
            "Época   9: perda 0.31395\n",
            "Época  10: perda 0.30882\n",
            "Época  11: perda 0.32959\n",
            "Época  12: perda 0.31030\n",
            "Época  13: perda 0.32479\n",
            "Época  14: perda 0.28704\n",
            "Época  15: perda 0.29489\n",
            "Época  16: perda 0.28708\n",
            "Época  17: perda 0.27333\n",
            "Época  18: perda 0.28836\n",
            "Época  19: perda 0.27818\n",
            "Época  20: perda 0.29999\n",
            "Época  21: perda 0.25090\n",
            "Época  22: perda 0.24037\n",
            "Época  23: perda 0.25740\n",
            "Época  24: perda 0.28473\n",
            "Época  25: perda 0.23825\n",
            "Época  26: perda 0.24456\n",
            "Época  27: perda 0.23883\n",
            "Época  28: perda 0.22457\n",
            "Época  29: perda 0.24069\n",
            "Época  30: perda 0.22416\n",
            "Época  31: perda 0.23415\n",
            "Época  32: perda 0.24657\n",
            "Época  33: perda 0.22031\n",
            "Época  34: perda 0.21913\n",
            "Época  35: perda 0.21345\n",
            "Época  36: perda 0.20784\n",
            "Época  37: perda 0.23652\n",
            "Época  38: perda 0.21905\n",
            "Época  39: perda 0.21646\n",
            "Época  40: perda 0.21096\n",
            "Época  41: perda 0.19921\n",
            "Época  42: perda 0.20448\n",
            "Época  43: perda 0.20861\n",
            "Época  44: perda 0.21177\n",
            "Época  45: perda 0.21949\n",
            "Época  46: perda 0.22370\n",
            "Época  47: perda 0.22735\n",
            "Época  48: perda 0.20241\n",
            "Época  49: perda 0.21599\n",
            "Época  50: perda 0.19395\n",
            "Época  51: perda 0.21083\n",
            "Época  52: perda 0.22796\n",
            "Época  53: perda 0.22733\n",
            "Época  54: perda 0.19419\n",
            "Época  55: perda 0.22052\n",
            "Época  56: perda 0.23628\n",
            "Época  57: perda 0.22801\n",
            "Época  58: perda 0.25004\n",
            "Época  59: perda 0.21105\n",
            "Época  60: perda 0.20058\n",
            "Época  61: perda 0.21497\n",
            "Época  62: perda 0.18873\n",
            "Época  63: perda 0.19853\n",
            "Época  64: perda 0.20121\n",
            "Época  65: perda 0.19323\n",
            "Época  66: perda 0.21453\n",
            "Época  67: perda 0.18549\n",
            "Época  68: perda 0.19062\n",
            "Época  69: perda 0.18581\n",
            "Época  70: perda 0.18153\n",
            "Época  71: perda 0.18012\n",
            "Época  72: perda 0.20544\n",
            "Época  73: perda 0.19529\n",
            "Época  74: perda 0.20440\n",
            "Época  75: perda 0.20683\n",
            "Época  76: perda 0.19958\n",
            "Época  77: perda 0.19075\n",
            "Época  78: perda 0.23669\n",
            "Época  79: perda 0.22417\n",
            "Época  80: perda 0.17096\n",
            "Época  81: perda 0.18876\n",
            "Época  82: perda 0.20987\n",
            "Época  83: perda 0.21689\n",
            "Época  84: perda 0.19555\n",
            "Época  85: perda 0.19955\n",
            "Época  86: perda 0.17461\n",
            "Época  87: perda 0.17347\n",
            "Época  88: perda 0.17329\n",
            "Época  89: perda 0.19957\n",
            "Época  90: perda 0.22376\n",
            "Época  91: perda 0.22650\n",
            "Época  92: perda 0.18090\n",
            "Época  93: perda 0.21893\n",
            "Época  94: perda 0.19839\n",
            "Época  95: perda 0.18416\n",
            "Época  96: perda 0.18494\n",
            "Época  97: perda 0.19049\n",
            "Época  98: perda 0.20135\n",
            "Época  99: perda 0.19800\n",
            "Época 100: perda 0.17765\n"
          ]
        }
      ]
    },
    {
      "cell_type": "markdown",
      "source": [
        "## Classificar somente um registro"
      ],
      "metadata": {
        "id": "3OU9xY56M5Fx"
      }
    },
    {
      "cell_type": "code",
      "source": [
        "\n",
        "novo = torch.tensor([[15.80, 8.34, 118, 900, 0.10, 0.26, 0.08, 0.134, 0.178, 0.20,\n",
        "                      0.05, 1098, 0.87, 4500, 145.2, 0.005, 0.04, 0.05, 0.015, 0.03,\n",
        "                      0.007, 23.15, 16.64, 178.5, 2018, 0.14, 0.185, 0.84, 158, 0.363]], dtype = torch.float)"
      ],
      "metadata": {
        "id": "jP0qwE7GATTH"
      },
      "execution_count": 19,
      "outputs": []
    },
    {
      "cell_type": "code",
      "source": [
        "# Para fazer essa previssão, precisamos colocar nosso CLASSIFICADOR em modo de AVALIAÇÃO\n",
        "\n",
        "classificador.eval()"
      ],
      "metadata": {
        "colab": {
          "base_uri": "https://localhost:8080/"
        },
        "id": "_adqUmTziCIx",
        "outputId": "047aa9f8-2182-4a1d-cc33-d75fddb4f76b"
      },
      "execution_count": 20,
      "outputs": [
        {
          "output_type": "execute_result",
          "data": {
            "text/plain": [
              "classificador_torch(\n",
              "  (dense0): Linear(in_features=30, out_features=8, bias=True)\n",
              "  (dense1): Linear(in_features=8, out_features=8, bias=True)\n",
              "  (dense2): Linear(in_features=8, out_features=1, bias=True)\n",
              "  (activation): ReLU()\n",
              "  (dropout): Dropout(p=0.2, inplace=False)\n",
              "  (output): Sigmoid()\n",
              ")"
            ]
          },
          "metadata": {},
          "execution_count": 20
        }
      ]
    },
    {
      "cell_type": "code",
      "source": [
        "previsao = classificador(novo)"
      ],
      "metadata": {
        "id": "LajMXNaziKq4"
      },
      "execution_count": 21,
      "outputs": []
    },
    {
      "cell_type": "code",
      "source": [
        "previsao"
      ],
      "metadata": {
        "colab": {
          "base_uri": "https://localhost:8080/"
        },
        "id": "i4sb-cWMijTi",
        "outputId": "0813f839-a854-4b39-bb30-e3605dac133a"
      },
      "execution_count": 22,
      "outputs": [
        {
          "output_type": "execute_result",
          "data": {
            "text/plain": [
              "tensor([[1.]], grad_fn=<SigmoidBackward0>)"
            ]
          },
          "metadata": {},
          "execution_count": 22
        }
      ]
    },
    {
      "cell_type": "code",
      "source": [
        "# Para visualizar os Dados fazemos o seguinte\n",
        "\n",
        "previsao = previsao.detach()"
      ],
      "metadata": {
        "id": "osgxtsrFizow"
      },
      "execution_count": 23,
      "outputs": []
    },
    {
      "cell_type": "code",
      "source": [
        "previsao"
      ],
      "metadata": {
        "colab": {
          "base_uri": "https://localhost:8080/"
        },
        "id": "GEUJCk0Xi1-N",
        "outputId": "c88c2a36-ffb6-4d10-b9e2-5e7e3f3eb6ff"
      },
      "execution_count": 24,
      "outputs": [
        {
          "output_type": "execute_result",
          "data": {
            "text/plain": [
              "tensor([[1.]])"
            ]
          },
          "metadata": {},
          "execution_count": 24
        }
      ]
    },
    {
      "cell_type": "code",
      "source": [
        "# Passamos para ARRAY, assim:\n",
        "\n",
        "previsao = previsao.numpy()"
      ],
      "metadata": {
        "id": "GvUTcyf4jPYk"
      },
      "execution_count": 25,
      "outputs": []
    },
    {
      "cell_type": "code",
      "source": [
        "type(previsao)"
      ],
      "metadata": {
        "colab": {
          "base_uri": "https://localhost:8080/"
        },
        "id": "qFye3MQnjkSw",
        "outputId": "036a7adc-70d9-408a-b13e-3c1dca804ee9"
      },
      "execution_count": 26,
      "outputs": [
        {
          "output_type": "execute_result",
          "data": {
            "text/plain": [
              "numpy.ndarray"
            ]
          },
          "metadata": {},
          "execution_count": 26
        }
      ]
    },
    {
      "cell_type": "code",
      "source": [
        "# Percebemos que a previsão deu 1 --> Isso significa que a pessoa tem CÂNCER\n",
        "\n",
        "previsao"
      ],
      "metadata": {
        "colab": {
          "base_uri": "https://localhost:8080/"
        },
        "id": "J40IZYN-joBR",
        "outputId": "548db6eb-1064-477b-8e1a-6248c9d2f88f"
      },
      "execution_count": 27,
      "outputs": [
        {
          "output_type": "execute_result",
          "data": {
            "text/plain": [
              "array([[1.]], dtype=float32)"
            ]
          },
          "metadata": {},
          "execution_count": 27
        }
      ]
    },
    {
      "cell_type": "code",
      "source": [
        "previsao = (previsao > 0.5)\n",
        "previsao"
      ],
      "metadata": {
        "colab": {
          "base_uri": "https://localhost:8080/"
        },
        "id": "wWdLsvqWjqcv",
        "outputId": "01bced16-ff67-4b55-cd7c-1adc6131e4b2"
      },
      "execution_count": 28,
      "outputs": [
        {
          "output_type": "execute_result",
          "data": {
            "text/plain": [
              "array([[ True]])"
            ]
          },
          "metadata": {},
          "execution_count": 28
        }
      ]
    },
    {
      "cell_type": "markdown",
      "source": [
        "## Salvamos o nosso Classificador"
      ],
      "metadata": {
        "id": "sFaA0taskGfU"
      }
    },
    {
      "cell_type": "code",
      "source": [
        "# .state_dict --> nos dá informação das camadas com os pesos\n",
        "\n",
        "classificador.state_dict"
      ],
      "metadata": {
        "colab": {
          "base_uri": "https://localhost:8080/"
        },
        "id": "16mMo5n1kCqG",
        "outputId": "a65e1099-63e2-4e81-ed23-d04886e2be92"
      },
      "execution_count": 29,
      "outputs": [
        {
          "output_type": "execute_result",
          "data": {
            "text/plain": [
              "<bound method Module.state_dict of classificador_torch(\n",
              "  (dense0): Linear(in_features=30, out_features=8, bias=True)\n",
              "  (dense1): Linear(in_features=8, out_features=8, bias=True)\n",
              "  (dense2): Linear(in_features=8, out_features=1, bias=True)\n",
              "  (activation): ReLU()\n",
              "  (dropout): Dropout(p=0.2, inplace=False)\n",
              "  (output): Sigmoid()\n",
              ")>"
            ]
          },
          "metadata": {},
          "execution_count": 29
        }
      ]
    },
    {
      "cell_type": "code",
      "source": [
        "# Aqui, mais explícito\n",
        "\n",
        "classificador.state_dict()"
      ],
      "metadata": {
        "colab": {
          "base_uri": "https://localhost:8080/"
        },
        "id": "Nqcz3Ws8mt2b",
        "outputId": "2d48670b-934b-4d2e-cc8f-2f21d35a51d1"
      },
      "execution_count": 30,
      "outputs": [
        {
          "output_type": "execute_result",
          "data": {
            "text/plain": [
              "OrderedDict([('dense0.weight',\n",
              "              tensor([[-3.9721e-01,  1.0573e-01, -1.4631e-01, -3.0919e-02,  2.1050e-02,\n",
              "                        8.3734e-01,  1.5699e+00,  1.0174e+00, -3.3016e-02, -7.7140e-02,\n",
              "                       -1.4872e-01,  3.2110e-02,  2.2688e-01,  1.3394e-01,  6.1822e-02,\n",
              "                        4.6633e-01,  6.2867e-01,  2.0660e-01,  1.2512e-01,  3.6311e-02,\n",
              "                       -3.3149e-01,  1.2870e-01, -1.5122e-01,  6.7956e-02,  1.1234e-01,\n",
              "                        1.2849e+00,  1.6499e+00,  1.0370e+00,  2.7712e-01,  2.2880e-01],\n",
              "                      [ 4.4252e-03,  8.0927e-03,  5.7704e-02, -9.8896e-03, -1.4061e-39,\n",
              "                       -1.4140e-39,  4.0617e-39, -2.1974e-40, -2.9822e-39, -7.9458e-40,\n",
              "                       -1.6107e-39,  8.4073e-08, -1.8189e-07,  7.2268e-03, -2.9817e-39,\n",
              "                        1.0227e-39, -1.4078e-39, -4.3381e-39,  3.4746e-39,  2.6412e-39,\n",
              "                       -1.3974e-02,  2.6148e-02, -1.9209e-02, -1.5789e-02, -2.4178e-39,\n",
              "                        2.6460e-39, -2.8645e-39, -1.6726e-39, -3.1644e-39, -2.8128e-39],\n",
              "                      [ 1.0481e-36, -1.8794e-21, -2.1076e-06, -6.7645e-03,  4.4099e-39,\n",
              "                       -3.5587e-39,  5.0763e-39,  3.9534e-39,  4.5444e-39,  7.0691e-40,\n",
              "                        1.6130e-39, -1.6020e-39,  2.2269e-39,  8.9483e-05,  4.2769e-40,\n",
              "                       -4.2922e-39,  4.8895e-39, -1.3498e-39, -2.5043e-39,  1.5895e-39,\n",
              "                       -3.7157e-26, -3.0573e-16,  1.0052e-05, -4.0947e-03,  3.1342e-39,\n",
              "                       -8.8409e-40,  6.2999e-39, -5.7661e-39, -5.7833e-39,  2.3303e-39],\n",
              "                      [-2.1993e-01, -5.1827e-03, -1.2374e-01, -1.2794e-01,  8.6206e-02,\n",
              "                        8.9754e-01,  1.4375e+00,  1.0105e+00,  6.4488e-02, -8.0037e-03,\n",
              "                       -2.0302e-01,  9.2318e-02, -1.7206e-01, -5.1537e-02,  2.8847e-02,\n",
              "                        5.1566e-01,  5.1482e-01,  1.6365e-01,  2.0577e-01,  5.9529e-02,\n",
              "                       -2.4632e-01,  1.8748e-01, -4.4858e-02,  1.2291e-01,  1.9990e-01,\n",
              "                        1.1515e+00,  1.4063e+00,  1.0205e+00,  3.7484e-01,  2.3609e-01],\n",
              "                      [-3.4908e-01,  1.3480e-01, -2.2688e-01, -1.3850e-03, -3.3362e-02,\n",
              "                        5.4944e-01,  1.3151e+00,  8.2882e-01,  4.6415e-03, -8.7702e-02,\n",
              "                       -4.0270e-03,  6.7370e-02,  8.9449e-02,  1.5560e-01,  6.8356e-02,\n",
              "                        3.3396e-01,  5.3568e-01,  1.6318e-01,  8.2806e-02,  2.7712e-02,\n",
              "                       -2.1088e-01,  8.2571e-02, -2.0876e-01,  5.1181e-02,  1.3035e-01,\n",
              "                        9.6384e-01,  1.3262e+00,  7.7512e-01,  1.2890e-01,  9.2579e-02],\n",
              "                      [-6.3296e-03, -4.0109e-02, -5.4731e-02,  2.2801e-02,  5.2210e-10,\n",
              "                       -1.4255e-08,  6.0199e-10, -9.5019e-18, -1.6569e-05, -1.6944e-12,\n",
              "                       -6.3827e-04, -1.7573e-02, -6.3025e-02,  3.6573e-02,  1.3317e-40,\n",
              "                        1.6775e-32, -1.6231e-24, -3.0983e-39,  4.7249e-36, -5.8773e-39,\n",
              "                       -7.3420e-02, -9.4437e-02, -6.9735e-02, -3.9181e-02, -1.0402e-06,\n",
              "                       -4.0436e-07, -3.2341e-05, -1.8094e-09, -2.8918e-04, -7.0354e-10],\n",
              "                      [-5.3651e-02, -7.9166e-02, -5.1192e-03,  2.0681e-02, -1.0583e-17,\n",
              "                       -5.5047e-17,  2.3366e-17, -7.6616e-38, -1.3771e-10,  2.5013e-27,\n",
              "                       -1.4608e-05,  2.1841e-03,  1.6786e-02, -9.1479e-02, -1.8853e-39,\n",
              "                        5.6737e-40,  1.6376e-39, -1.4371e-39,  1.0010e-40,  1.2147e-39,\n",
              "                        3.1444e-02, -9.9789e-02,  1.9000e-03, -1.7623e-02, -1.6096e-12,\n",
              "                       -2.5517e-07, -1.2033e-06, -1.1949e-14,  3.0066e-07, -2.3378e-19],\n",
              "                      [ 2.4375e-01,  1.2749e-01,  2.4835e-01,  1.5356e-02,  1.3063e-01,\n",
              "                       -7.2499e-01, -1.1931e+00, -8.7733e-01,  1.2092e-01,  1.3989e-01,\n",
              "                        1.8279e-01,  1.6184e-01, -1.0757e-01, -7.3697e-02,  1.3807e-02,\n",
              "                       -4.0856e-01, -4.3937e-01, -1.6979e-01,  3.5653e-02, -1.6200e-02,\n",
              "                        2.2940e-01, -9.3904e-02,  9.5712e-02, -6.6004e-02, -1.0924e-02,\n",
              "                       -1.0139e+00, -1.2075e+00, -8.7765e-01, -3.7085e-02, -1.7779e-01]])),\n",
              "             ('dense0.bias',\n",
              "              tensor([-4.0376e-01, -3.5835e-11,  2.3326e-40, -3.4989e-01, -2.5836e-01,\n",
              "                       3.4043e-02, -8.2712e-03,  3.7822e-01])),\n",
              "             ('dense1.weight',\n",
              "              tensor([[-8.9420e-02, -2.8862e-39,  2.0985e-39, -1.4794e-01, -1.3417e-01,\n",
              "                        4.8140e-03,  7.1871e-02,  1.5146e-01],\n",
              "                      [-9.8332e-02, -1.9651e-39, -1.3472e-38,  1.9963e-01,  1.1903e-01,\n",
              "                        1.7777e-02,  7.6512e-02,  2.3101e-02],\n",
              "                      [-4.9630e-02, -1.8101e-03, -9.4538e-06, -1.8693e-01, -1.4512e-01,\n",
              "                       -8.6532e-02, -4.5670e-02,  3.8477e-01],\n",
              "                      [-9.9404e-02, -2.1054e-03, -3.4465e-10, -2.9331e-01, -1.3819e-01,\n",
              "                       -7.1947e-03, -4.9820e-02,  3.7613e-01],\n",
              "                      [ 7.6853e-02,  1.8027e-02,  9.6972e-05,  8.4563e-02,  6.2263e-02,\n",
              "                        6.6175e-02, -2.9406e-02,  3.1250e-02],\n",
              "                      [ 1.0048e-01,  3.9933e-03,  3.1042e-05,  1.0652e-01,  4.8671e-02,\n",
              "                       -3.6482e-03, -6.3362e-02,  4.8587e-03],\n",
              "                      [-1.1199e-02,  1.3458e-39,  5.2666e-39, -2.2213e-02, -2.5624e-02,\n",
              "                        4.8171e-02, -1.1679e-02, -1.3024e-02],\n",
              "                      [ 1.0582e-01, -1.1383e-02,  1.5311e-05,  1.0250e-01,  7.1129e-02,\n",
              "                        1.0695e-02,  1.7124e-02,  5.5193e-02]])),\n",
              "             ('dense1.bias',\n",
              "              tensor([ 1.0767e+00, -1.8863e-01,  5.7080e-01,  1.1569e+00, -2.3037e-01,\n",
              "                      -2.9775e-01, -8.0243e-04, -4.3411e-01])),\n",
              "             ('dense2.weight',\n",
              "              tensor([[-0.6942,  0.4236, -0.5009, -0.4792,  0.4067,  0.3505,  0.0426,  0.3787]])),\n",
              "             ('dense2.bias', tensor([-1.0024]))])"
            ]
          },
          "metadata": {},
          "execution_count": 30
        }
      ]
    },
    {
      "cell_type": "code",
      "source": [
        "# Agora sim procedemos a SALVAR nosso classificador\n",
        "\n",
        "torch.save(classificador.state_dict,\n",
        "           '/content/drive/MyDrive/2_DEEP_LEARNING_REDES_NEURAIS_Jorge/1_Pytorch_Deep_Learning/Pytorch_examples/classificador.pth')"
      ],
      "metadata": {
        "id": "SNr5G436m2_U"
      },
      "execution_count": 31,
      "outputs": []
    }
  ]
}