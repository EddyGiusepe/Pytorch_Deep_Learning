{
  "nbformat": 4,
  "nbformat_minor": 0,
  "metadata": {
    "colab": {
      "name": "Linear_Regression_with_Pytorch.ipynb",
      "provenance": [],
      "collapsed_sections": [],
      "authorship_tag": "ABX9TyMKV136dv56uYW7UUD+kKlm",
      "include_colab_link": true
    },
    "kernelspec": {
      "name": "python3",
      "display_name": "Python 3"
    },
    "language_info": {
      "name": "python"
    }
  },
  "cells": [
    {
      "cell_type": "markdown",
      "metadata": {
        "id": "view-in-github",
        "colab_type": "text"
      },
      "source": [
        "<a href=\"https://colab.research.google.com/github/EddyGiusepe/Pytorch_Deep_Learning/blob/main/Linear_Regression_with_Pytorch.ipynb\" target=\"_parent\"><img src=\"https://colab.research.google.com/assets/colab-badge.svg\" alt=\"Open In Colab\"/></a>"
      ]
    },
    {
      "cell_type": "markdown",
      "source": [
        "# Linear Regression with Pytorch"
      ],
      "metadata": {
        "id": "-jTzKlUbaW4e"
      }
    },
    {
      "cell_type": "markdown",
      "source": [
        "Data scientist jr.: Dr.Eddy Giusepe Chirinos Isidro"
      ],
      "metadata": {
        "id": "i692zsZQadyI"
      }
    },
    {
      "cell_type": "markdown",
      "source": [
        "Here we have the following steps:\n",
        "\n",
        "* Design model (input, output size, forward pass)\n",
        "\n",
        "* Construct loss and optimizer\n",
        "\n",
        "* Training loop \n",
        "    * Forward pass: compute prediction an loss\n",
        "    * Backward pass: gradients\n",
        "    * Update weights\n"
      ],
      "metadata": {
        "id": "IoOeroV7bJyL"
      }
    },
    {
      "cell_type": "markdown",
      "source": [
        "## Import our libraries"
      ],
      "metadata": {
        "id": "MhIR_UbWcc25"
      }
    },
    {
      "cell_type": "code",
      "execution_count": 2,
      "metadata": {
        "id": "FjeGHv1oWZN5"
      },
      "outputs": [],
      "source": [
        "import torch \n",
        "import torch.nn as nn\n",
        "import numpy as np\n",
        "from sklearn import datasets\n",
        "import matplotlib.pyplot as plt\n",
        "\n"
      ]
    },
    {
      "cell_type": "markdown",
      "source": [
        "## Prepare Data"
      ],
      "metadata": {
        "id": "TYVecmMQdKrd"
      }
    },
    {
      "cell_type": "code",
      "source": [
        "# Os dados estão em formato Numpy\n",
        "\n",
        "x_numpy, y_numpy = datasets.make_regression(n_samples=100, n_features=1, noise=20, random_state=1)"
      ],
      "metadata": {
        "id": "WoSVCo7OabsU"
      },
      "execution_count": 3,
      "outputs": []
    },
    {
      "cell_type": "code",
      "source": [
        "x_numpy.shape, y_numpy.shape"
      ],
      "metadata": {
        "colab": {
          "base_uri": "https://localhost:8080/"
        },
        "id": "YZmCBEe_dElh",
        "outputId": "403d3a6d-1caf-4406-9c42-6f23479e61d3"
      },
      "execution_count": 5,
      "outputs": [
        {
          "output_type": "execute_result",
          "data": {
            "text/plain": [
              "((100, 1), (100,))"
            ]
          },
          "metadata": {},
          "execution_count": 5
        }
      ]
    },
    {
      "cell_type": "code",
      "source": [
        "x = torch.from_numpy(x_numpy.astype(np.float32))\n",
        "y = torch.from_numpy(y_numpy.astype(np.float32))\n",
        "y = y.view(y.shape[0], 1) # Labels\n"
      ],
      "metadata": {
        "id": "_xH1C72gdEis"
      },
      "execution_count": 7,
      "outputs": []
    },
    {
      "cell_type": "code",
      "source": [
        "y.shape"
      ],
      "metadata": {
        "colab": {
          "base_uri": "https://localhost:8080/"
        },
        "id": "R3lU1kYFe-qH",
        "outputId": "fe2ae238-0066-4c9e-99ec-bbd62cfcd6b6"
      },
      "execution_count": 11,
      "outputs": [
        {
          "output_type": "execute_result",
          "data": {
            "text/plain": [
              "torch.Size([100, 1])"
            ]
          },
          "metadata": {},
          "execution_count": 11
        }
      ]
    },
    {
      "cell_type": "code",
      "source": [
        "n_samples, n_features = x.shape"
      ],
      "metadata": {
        "id": "g2IT1Tj_fBPb"
      },
      "execution_count": 12,
      "outputs": []
    },
    {
      "cell_type": "markdown",
      "source": [
        "## Linear Model"
      ],
      "metadata": {
        "id": "PDasQmCFfeBq"
      }
    },
    {
      "cell_type": "code",
      "source": [
        "input_size = n_features\n",
        "output_size = 1\n",
        "\n",
        "model = nn.Linear(input_size, output_size)"
      ],
      "metadata": {
        "id": "8RF5KLeTfTr-"
      },
      "execution_count": 13,
      "outputs": []
    },
    {
      "cell_type": "markdown",
      "source": [
        "## Loss and optimizer"
      ],
      "metadata": {
        "id": "kOg-Ed3zgMBF"
      }
    },
    {
      "cell_type": "code",
      "source": [
        "# MSE --> Mean Squared Erro\n",
        "\n",
        "learning_rate = 0.01\n",
        "criterion = nn.MSELoss() \n",
        "optimizer = torch.optim.SGD(model.parameters(), lr = learning_rate)"
      ],
      "metadata": {
        "id": "_J8jdPrWgIjZ"
      },
      "execution_count": 15,
      "outputs": []
    },
    {
      "cell_type": "markdown",
      "source": [
        "# Training loop"
      ],
      "metadata": {
        "id": "KeY3430NkRkn"
      }
    },
    {
      "cell_type": "code",
      "source": [
        "num_epochs = 100\n",
        "\n",
        "for epoch in range(num_epochs):\n",
        "  # Forward pass and loss\n",
        "  y_predicted = model(x)\n",
        "  loss = criterion(y_predicted, y)\n",
        "\n",
        "  # Backward pass\n",
        "  loss.backward()\n",
        "\n",
        "  # Update the weights\n",
        "  optimizer.step()\n",
        "\n",
        "  optimizer.zero_grad() # \n",
        "\n",
        "  if (epoch + 1) % 10 == 0:\n",
        "    print(f'epoch: {epoch + 1}, loss = {loss.item():.4f}')\n",
        "\n",
        "\n",
        "# Plot\n",
        "predicted = model(x).detach().numpy()\n",
        "plt.plot(x_numpy, y_numpy, 'ro')\n",
        "plt.plot(x_numpy, predicted, 'b')\n",
        "plt.title('Linear Regression', color='b')\n",
        "plt.show()\n"
      ],
      "metadata": {
        "colab": {
          "base_uri": "https://localhost:8080/",
          "height": 455
        },
        "id": "4XOArGr1fTnQ",
        "outputId": "b3be1c6a-71cd-44ea-9e93-3ddc7ed0ade3"
      },
      "execution_count": 31,
      "outputs": [
        {
          "output_type": "stream",
          "name": "stdout",
          "text": [
            "epoch: 10, loss = 332.5676\n",
            "epoch: 20, loss = 332.5676\n",
            "epoch: 30, loss = 332.5676\n",
            "epoch: 40, loss = 332.5676\n",
            "epoch: 50, loss = 332.5676\n",
            "epoch: 60, loss = 332.5676\n",
            "epoch: 70, loss = 332.5676\n",
            "epoch: 80, loss = 332.5676\n",
            "epoch: 90, loss = 332.5676\n",
            "epoch: 100, loss = 332.5676\n"
          ]
        },
        {
          "output_type": "display_data",
          "data": {
            "text/plain": [
              "<Figure size 432x288 with 1 Axes>"
            ],
            "image/png": "[encoded data removed]"
          },
          "metadata": {
            "needs_background": "light"
          }
        }
      ]
    },
    {
      "cell_type": "code",
      "source": [
        ""
      ],
      "metadata": {
        "id": "E5QBicTZfTix"
      },
      "execution_count": null,
      "outputs": []
    },
    {
      "cell_type": "code",
      "source": [
        ""
      ],
      "metadata": {
        "id": "PTc-lUOAfTf-"
      },
      "execution_count": null,
      "outputs": []
    }
  ]
}