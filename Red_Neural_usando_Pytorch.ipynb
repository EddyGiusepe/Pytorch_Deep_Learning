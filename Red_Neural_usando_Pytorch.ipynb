{
  "nbformat": 4,
  "nbformat_minor": 0,
  "metadata": {
    "colab": {
      "name": "Red_Neural_usando_Pytorch.ipynb",
      "provenance": [],
      "machine_shape": "hm",
      "mount_file_id": "1g-lIW-daDdOrRhvPjV58G372ySvOE9dq",
      "authorship_tag": "ABX9TyOg1t3zImkPMls0vq5iG5g1",
      "include_colab_link": true
    },
    "kernelspec": {
      "name": "python3",
      "display_name": "Python 3"
    },
    "language_info": {
      "name": "python"
    },
    "accelerator": "GPU"
  },
  "cells": [
    {
      "cell_type": "markdown",
      "metadata": {
        "id": "view-in-github",
        "colab_type": "text"
      },
      "source": [
        "<a href=\"https://colab.research.google.com/github/EddyGiusepe/Pytorch_Deep_Learning/blob/main/Red_Neural_usando_Pytorch.ipynb\" target=\"_parent\"><img src=\"https://colab.research.google.com/assets/colab-badge.svg\" alt=\"Open In Colab\"/></a>"
      ]
    },
    {
      "cell_type": "markdown",
      "source": [
        "# <h2 align='center'>Red Neural usando Pytorch</h2>"
      ],
      "metadata": {
        "id": "nrX1U0HUWE-f"
      }
    },
    {
      "cell_type": "markdown",
      "source": [
        "Data Science.: Dr.Eddy Giusepe Chirinos Isidro\n",
        "\n",
        "\n",
        "Aquí, más una vez, estudiaremos la implementación de una Red Neuronal usando el FrameWork de Pytorch. El Link de estudio es de [Pepe Cantoral, PhD.](https://www.youtube.com/watch?v=qQELiV1_GHA&list=PLWzLQn_hxe6ZlC9-YMt3nN0Eo-ZpOJuXd&index=21):\n",
        "\n",
        "* [Red Neuronal usando Pytorch](https://www.youtube.com/watch?v=qQELiV1_GHA&list=PLWzLQn_hxe6ZlC9-YMt3nN0Eo-ZpOJuXd&index=21)"
      ],
      "metadata": {
        "id": "GStI6xWnWSUD"
      }
    },
    {
      "cell_type": "markdown",
      "source": [
        "# Pytorch"
      ],
      "metadata": {
        "id": "BbK1SbaLXKxe"
      }
    },
    {
      "cell_type": "markdown",
      "source": [
        "## Importamos las bibliotecas "
      ],
      "metadata": {
        "id": "wlZQ6VJYXNt-"
      }
    },
    {
      "cell_type": "code",
      "source": [
        "import numpy as np\n",
        "import matplotlib.pyplot as plt\n",
        "%matplotlib inline\n",
        "\n",
        "\n",
        "# PyTorch \n",
        "import torch\n",
        "import torch.nn as nn\n",
        "import torch.nn.functional as F"
      ],
      "metadata": {
        "id": "KmChtlgwWO4V"
      },
      "execution_count": 1,
      "outputs": []
    },
    {
      "cell_type": "markdown",
      "source": [
        "## Importamos las imágenes"
      ],
      "metadata": {
        "id": "kr4kmjtZX0Yj"
      }
    },
    {
      "cell_type": "code",
      "source": [
        "# Función para cargar los Datos de MNIST\n",
        "# Ver vídeo --> https://www.youtube.com/watch?v=7cMKAlnSmpM\n",
        "\n",
        "import gzip\n",
        "import os\n",
        "from os.path import isfile, join\n",
        "\n",
        "\n",
        "def list_files(mnist_path):\n",
        "    return [join(mnist_path,f) for f in os.listdir(mnist_path) if isfile(join(mnist_path, f))]\n",
        "\n",
        "def get_images(mnist_path):\n",
        "    for f in list_files(mnist_path):\n",
        "        if 'train-images' in f:\n",
        "            with gzip.open(f, 'rb') as data:\n",
        "                _ = int.from_bytes(data.read(4), 'big')\n",
        "                num_images = int.from_bytes(data.read(4), 'big')\n",
        "                rows = int.from_bytes(data.read(4), 'big')\n",
        "                cols = int.from_bytes(data.read(4), 'big')\n",
        "                train_images = data.read()\n",
        "                x_train = np.frombuffer(train_images, dtype=np.uint8)\n",
        "                x_train = x_train.reshape((num_images, rows, cols))\n",
        "        elif 'train-labels' in f:\n",
        "            with gzip.open(f, 'rb') as data:\n",
        "                train_labels = data.read()[8:]\n",
        "                y_train = np.frombuffer(train_labels, dtype=np.uint8)\n",
        "        if 't10k-images' in f:\n",
        "            with gzip.open(f, 'rb') as data:\n",
        "                _ = int.from_bytes(data.read(4), 'big')\n",
        "                num_images = int.from_bytes(data.read(4), 'big')\n",
        "                rows = int.from_bytes(data.read(4), 'big')\n",
        "                cols = int.from_bytes(data.read(4), 'big')\n",
        "                test_images = data.read()\n",
        "                x_test = np.frombuffer(test_images, dtype=np.uint8)\n",
        "                x_test = x_test.reshape((num_images, rows, cols))\n",
        "        elif 't10k-labels' in f:\n",
        "            with gzip.open(f, 'rb') as data:\n",
        "                test_labels = data.read()[8:]\n",
        "                y_test = np.frombuffer(test_labels, dtype=np.uint8)\n",
        "    \n",
        "    return x_train, y_train, x_test, y_test        "
      ],
      "metadata": {
        "id": "4qqwuGtlaJzX"
      },
      "execution_count": 2,
      "outputs": []
    },
    {
      "cell_type": "code",
      "source": [
        "mnist_path = '/content/drive/MyDrive/2_DEEP_LEARNING_REDES_NEURAIS_Jorge/1_Pytorch_Deep_Learning/Pytorch_examples/Rede_neural_exemplo_Pytorch/data/MNIST/raw/mnist_raw'"
      ],
      "metadata": {
        "id": "uNfV23vEaJaF"
      },
      "execution_count": 3,
      "outputs": []
    },
    {
      "cell_type": "code",
      "source": [
        "x_train_num, y_train_num, x_test_num, y_test_num = get_images(mnist_path)"
      ],
      "metadata": {
        "id": "kMoKqhMOa07z"
      },
      "execution_count": 4,
      "outputs": []
    },
    {
      "cell_type": "code",
      "source": [
        "x_train_num.shape"
      ],
      "metadata": {
        "colab": {
          "base_uri": "https://localhost:8080/"
        },
        "id": "C2U5pf_mmtMS",
        "outputId": "5c102860-62d3-47d6-ddbf-dc63ce2cfb62"
      },
      "execution_count": 5,
      "outputs": [
        {
          "output_type": "execute_result",
          "data": {
            "text/plain": [
              "(60000, 28, 28)"
            ]
          },
          "metadata": {},
          "execution_count": 5
        }
      ]
    },
    {
      "cell_type": "code",
      "source": [
        "y_train_num.shape"
      ],
      "metadata": {
        "colab": {
          "base_uri": "https://localhost:8080/"
        },
        "id": "Xoc5V3cop5N-",
        "outputId": "07a40f62-f2b7-4681-fd2a-fb33fd686ee6"
      },
      "execution_count": 8,
      "outputs": [
        {
          "output_type": "execute_result",
          "data": {
            "text/plain": [
              "(60000,)"
            ]
          },
          "metadata": {},
          "execution_count": 8
        }
      ]
    },
    {
      "cell_type": "code",
      "source": [
        "# Aquí dividimos nuestros Datos en train, val y test\n",
        "# También los convertimos a vectores\n",
        "\n",
        "x_train = x_train_num[:50000].reshape(50000, -1).astype(np.float32)\n",
        "y_train = y_train_num[:50000].reshape(50000, 1)\n",
        "\n",
        "x_val = x_train_num[50000:].reshape(10000, -1).astype(np.float32)\n",
        "y_val = y_train_num[50000:].reshape(10000, 1)\n",
        "\n",
        "x_test = x_test_num.copy().reshape(10000, -1).astype(np.float32)\n",
        "y_test = y_test_num.copy().reshape(10000, 1)"
      ],
      "metadata": {
        "id": "-bSEQGNlX7JC"
      },
      "execution_count": 6,
      "outputs": []
    },
    {
      "cell_type": "code",
      "source": [
        "x_train.shape"
      ],
      "metadata": {
        "colab": {
          "base_uri": "https://localhost:8080/"
        },
        "id": "cY_fKUuEpsKk",
        "outputId": "437b92c2-3b8c-4ff4-8323-30fe112a0271"
      },
      "execution_count": 7,
      "outputs": [
        {
          "output_type": "execute_result",
          "data": {
            "text/plain": [
              "(50000, 784)"
            ]
          },
          "metadata": {},
          "execution_count": 7
        }
      ]
    },
    {
      "cell_type": "code",
      "source": [
        "y_train.shape"
      ],
      "metadata": {
        "colab": {
          "base_uri": "https://localhost:8080/"
        },
        "id": "zStknE-Sp8eW",
        "outputId": "3f074c23-4475-4f99-e2fa-7aec2eb2ab12"
      },
      "execution_count": 9,
      "outputs": [
        {
          "output_type": "execute_result",
          "data": {
            "text/plain": [
              "(50000, 1)"
            ]
          },
          "metadata": {},
          "execution_count": 9
        }
      ]
    },
    {
      "cell_type": "markdown",
      "source": [
        "## Normalizamos nuestras Imágenes"
      ],
      "metadata": {
        "id": "Tp9NXIpbferM"
      }
    },
    {
      "cell_type": "code",
      "source": [
        "# Media = 0 y Desvio_standard = 1\n",
        "\n",
        "def normalise(x_mean, x_std, x_data):\n",
        "    return (x_data - x_mean) / x_std"
      ],
      "metadata": {
        "id": "lIbUcu93ewwz"
      },
      "execution_count": 10,
      "outputs": []
    },
    {
      "cell_type": "code",
      "source": [
        "x_mean = x_train.mean()\n",
        "x_std = x_train.std()\n",
        "\n",
        "x_train = normalise(x_mean, x_std, x_train)\n",
        "x_val = normalise(x_mean, x_std, x_val)\n",
        "x_test = normalise(x_mean, x_std, x_test)"
      ],
      "metadata": {
        "id": "FapbXHqvfnc1"
      },
      "execution_count": 11,
      "outputs": []
    },
    {
      "cell_type": "code",
      "source": [
        "# Aquí, por ejemplo para nuestros Datos de Train, tenemos Media=0 y Desvio_standard=1\n",
        "\n",
        "x_train.mean(), x_train.std()"
      ],
      "metadata": {
        "colab": {
          "base_uri": "https://localhost:8080/"
        },
        "id": "EGRMShWdf0qI",
        "outputId": "d689cd25-c905-4d25-e8c1-61e34264dece"
      },
      "execution_count": 12,
      "outputs": [
        {
          "output_type": "execute_result",
          "data": {
            "text/plain": [
              "(-3.1638146e-07, 0.99999934)"
            ]
          },
          "metadata": {},
          "execution_count": 12
        }
      ]
    },
    {
      "cell_type": "markdown",
      "source": [
        "## Mostramos algunas Imágenes"
      ],
      "metadata": {
        "id": "7xUdBTzBghDK"
      }
    },
    {
      "cell_type": "code",
      "source": [
        "x_train.shape, x_val.shape, x_test.shape"
      ],
      "metadata": {
        "colab": {
          "base_uri": "https://localhost:8080/"
        },
        "id": "LvsTuMGegJfg",
        "outputId": "d7c6dcf4-90f0-4097-9eb6-22af3445854a"
      },
      "execution_count": 13,
      "outputs": [
        {
          "output_type": "execute_result",
          "data": {
            "text/plain": [
              "((50000, 784), (10000, 784), (10000, 784))"
            ]
          },
          "metadata": {},
          "execution_count": 13
        }
      ]
    },
    {
      "cell_type": "code",
      "source": [
        "y_train.shape, y_val.shape, y_test.shape"
      ],
      "metadata": {
        "colab": {
          "base_uri": "https://localhost:8080/"
        },
        "id": "v8OCTeEJhO_D",
        "outputId": "569b373f-86d1-408e-98ad-b212f97d55e0"
      },
      "execution_count": 14,
      "outputs": [
        {
          "output_type": "execute_result",
          "data": {
            "text/plain": [
              "((50000, 1), (10000, 1), (10000, 1))"
            ]
          },
          "metadata": {},
          "execution_count": 14
        }
      ]
    },
    {
      "cell_type": "code",
      "source": [
        "def plot_number(image):\n",
        "    plt.figure(figsize=(5,5))\n",
        "    plt.imshow(image.squeeze(), cmap=plt.get_cmap('gray'))\n",
        "    plt.axis('off')\n",
        "    plt.show()"
      ],
      "metadata": {
        "id": "j90_uDYZgz8_"
      },
      "execution_count": 15,
      "outputs": []
    },
    {
      "cell_type": "code",
      "source": [
        "rnd_idx = np.random.randint(len(y_test))\n",
        "\n",
        "print(f'La imagen mostrada representa un: {y_test[rnd_idx, 0]}')\n",
        "plot_number(x_test_num[rnd_idx])"
      ],
      "metadata": {
        "colab": {
          "base_uri": "https://localhost:8080/",
          "height": 320
        },
        "id": "XR2Oii6sg_lL",
        "outputId": "40fe98a6-93c8-4e46-e674-be03503b4f95"
      },
      "execution_count": 16,
      "outputs": [
        {
          "output_type": "stream",
          "name": "stdout",
          "text": [
            "La imagen mostrada representa un: 0\n"
          ]
        },
        {
          "output_type": "display_data",
          "data": {
            "text/plain": [
              "<Figure size 360x360 with 1 Axes>"
            ],
            "image/png": "[encoded data removed]"
          },
          "metadata": {
            "needs_background": "light"
          }
        }
      ]
    },
    {
      "cell_type": "markdown",
      "source": [
        "## Crear Minibatches"
      ],
      "metadata": {
        "id": "a0kv6LUxiKHy"
      }
    },
    {
      "cell_type": "markdown",
      "source": [
        "Aquí vamos a crear minibatch para el proceso de entrenamiento. No es recomendable mandar todos los Datos para este proceso, por question de memoria, etc. Tampoco es recomendable enviar poucos Datos, ya que sería muy ineficiente el proceso."
      ],
      "metadata": {
        "id": "KdWCAYXiiOVA"
      }
    },
    {
      "cell_type": "code",
      "source": [
        "def create_minibatches(x, y, mb_size, shuffle = True):\n",
        "    '''\n",
        "    x  #muestras, 784\n",
        "    y #muestras, 1\n",
        "    '''\n",
        "    assert x.shape[0] == y.shape[0], 'Error en cantidad de muestras'\n",
        "    total_data = x.shape[0]\n",
        "    if shuffle: \n",
        "        idxs = np.arange(total_data)\n",
        "        np.random.shuffle(idxs)\n",
        "        x = x[idxs]\n",
        "        y = y[idxs]  \n",
        "    return ((x[i:i+mb_size], y[i:i+mb_size]) for i in range(0, total_data, mb_size))"
      ],
      "metadata": {
        "id": "QE7cluVkg_gx"
      },
      "execution_count": 17,
      "outputs": []
    },
    {
      "cell_type": "markdown",
      "source": [
        "# Ahora sí! ... Vamos para Pytorch"
      ],
      "metadata": {
        "id": "u_imydsfjSGu"
      }
    },
    {
      "cell_type": "markdown",
      "source": [
        "## Convertimos Numpy array a Pytorch (o sea para Tensores)"
      ],
      "metadata": {
        "id": "_nb1goIkjbTV"
      }
    },
    {
      "cell_type": "code",
      "source": [
        "x_train_tensor = torch.tensor(x_train.copy())\n",
        "y_train_tensor = torch.tensor(y_train.copy())\n",
        "\n",
        "x_val_tensor = torch.tensor(x_val.copy())\n",
        "y_val_tensor = torch.tensor(y_val.copy())\n",
        "\n",
        "x_test_tensor = torch.tensor(x_test.copy())\n",
        "y_test_tensor = torch.tensor(y_test.copy())"
      ],
      "metadata": {
        "id": "4jbTRngNg_eL"
      },
      "execution_count": 18,
      "outputs": []
    },
    {
      "cell_type": "markdown",
      "source": [
        "## Usando GPU"
      ],
      "metadata": {
        "id": "xgf8QDSpqXHe"
      }
    },
    {
      "cell_type": "code",
      "source": [
        "if torch.cuda.is_available():\n",
        "    device = torch.device('cuda')\n",
        "else:\n",
        "    device = torch.device('cpu')\n",
        "\n",
        "print(f'Estamos usando: {device}')"
      ],
      "metadata": {
        "colab": {
          "base_uri": "https://localhost:8080/"
        },
        "id": "VeJN70S1kJum",
        "outputId": "c1ce399a-49e0-416c-f528-c643aa9e902d"
      },
      "execution_count": 21,
      "outputs": [
        {
          "output_type": "stream",
          "name": "stdout",
          "text": [
            "Estamos usando: cuda\n"
          ]
        }
      ]
    },
    {
      "cell_type": "markdown",
      "source": [
        "## Calculamos accuracy"
      ],
      "metadata": {
        "id": "9W8XJ4gpq8Nd"
      }
    },
    {
      "cell_type": "code",
      "source": [
        "# model --> Nuestro modelo NEURAL\n",
        "\n",
        "def accuracy(model, x, y, mb_size):\n",
        "    num_correct = 0\n",
        "    num_total = 0\n",
        "    model.eval()\n",
        "    model = model.to(device=device)\n",
        "    \n",
        "    with torch.no_grad():\n",
        "        for (xi, yi) in create_minibatches(x, y, mb_size):\n",
        "            xi = xi.to(device=device, dtype = torch.float32)\n",
        "            yi = yi.to(device=device, dtype = torch.long)\n",
        "            scores = model(xi) # mb_size, 10\n",
        "            _, pred = scores.max(dim=1) #pred shape (mb_size )\n",
        "            num_correct += (pred == yi.squeeze()).sum() # pred shape (mb_size), yi shape (mb_size, 1)\n",
        "            num_total += pred.size(0)\n",
        "\n",
        "            return float(num_correct)/num_total "
      ],
      "metadata": {
        "id": "m6zd4pGbkJr8"
      },
      "execution_count": 22,
      "outputs": []
    },
    {
      "cell_type": "markdown",
      "source": [
        "## Loop de entrenamiento"
      ],
      "metadata": {
        "id": "SwtKKxhesA-5"
      }
    },
    {
      "cell_type": "code",
      "source": [
        "def train(model, optimizer, mb_size, epochs=100):\n",
        "    model = model.to(device=device)\n",
        "    for epoch in range(epochs):\n",
        "        for (xi, yi) in create_minibatches(x_train_tensor, y_train_tensor, mb_size):\n",
        "            model.train()\n",
        "            xi = xi.to(device=device, dtype=torch.float32)\n",
        "            yi = yi.to(device=device, dtype=torch.long)\n",
        "            scores = model(xi)\n",
        "            # funcion cost\n",
        "            cost = F.cross_entropy(input= scores, target=yi.squeeze())\n",
        "            optimizer.zero_grad()\n",
        "            cost.backward()\n",
        "            optimizer.step()\n",
        "            \n",
        "        print(f'Epoch: {epoch}, costo: {cost.item()}, accuracy: {accuracy(model, x_val_tensor, y_val_tensor, mb_size)}')"
      ],
      "metadata": {
        "id": "EZUues26kJpi"
      },
      "execution_count": 25,
      "outputs": []
    },
    {
      "cell_type": "markdown",
      "source": [
        "# <font color=\"orange\">Modelo usando Sequential</font>"
      ],
      "metadata": {
        "id": "hc1dM11esLOP"
      }
    },
    {
      "cell_type": "code",
      "source": [
        "#Instanciamos nuestro modelo\n",
        "\n",
        "hidden1 = 1000 # Neuronas\n",
        "hidden = 1000\n",
        "lr = 5e-2\n",
        "epochs = 100\n",
        "mb_size = 4096\n",
        "\n",
        "\n",
        "model1 = nn.Sequential(nn.Linear(in_features=784, out_features=hidden1), nn.ReLU(),\n",
        "                       nn.Linear(in_features=hidden1, out_features=hidden), nn.ReLU(),\n",
        "                       nn.Linear(in_features=hidden, out_features=10))\n",
        "\n",
        "\n",
        "optimizer = torch.optim.SGD(model1.parameters(), lr=lr)\n",
        "\n",
        "\n",
        "train(model1, optimizer, mb_size, epochs)"
      ],
      "metadata": {
        "colab": {
          "base_uri": "https://localhost:8080/"
        },
        "id": "8Q2Sx0w9kJnR",
        "outputId": "4cc68fc0-c5ea-4269-952d-117d8ee4d930"
      },
      "execution_count": 26,
      "outputs": [
        {
          "output_type": "stream",
          "name": "stdout",
          "text": [
            "Epoch: 0, costo: 1.9202024936676025, accuracy: 0.707275390625\n",
            "Epoch: 1, costo: 1.3174387216567993, accuracy: 0.78759765625\n",
            "Epoch: 2, costo: 0.855911374092102, accuracy: 0.843994140625\n",
            "Epoch: 3, costo: 0.6310056447982788, accuracy: 0.85595703125\n",
            "Epoch: 4, costo: 0.5211655497550964, accuracy: 0.877685546875\n",
            "Epoch: 5, costo: 0.44492900371551514, accuracy: 0.891357421875\n",
            "Epoch: 6, costo: 0.4525982141494751, accuracy: 0.903564453125\n",
            "Epoch: 7, costo: 0.4152267277240753, accuracy: 0.899169921875\n",
            "Epoch: 8, costo: 0.4210869073867798, accuracy: 0.908447265625\n",
            "Epoch: 9, costo: 0.33444419503211975, accuracy: 0.904296875\n",
            "Epoch: 10, costo: 0.34346669912338257, accuracy: 0.91455078125\n",
            "Epoch: 11, costo: 0.3667248487472534, accuracy: 0.907958984375\n",
            "Epoch: 12, costo: 0.3499428331851959, accuracy: 0.9140625\n",
            "Epoch: 13, costo: 0.2939586043357849, accuracy: 0.912841796875\n",
            "Epoch: 14, costo: 0.31724876165390015, accuracy: 0.916748046875\n",
            "Epoch: 15, costo: 0.3530997037887573, accuracy: 0.91943359375\n",
            "Epoch: 16, costo: 0.30763331055641174, accuracy: 0.9111328125\n",
            "Epoch: 17, costo: 0.26413804292678833, accuracy: 0.922119140625\n",
            "Epoch: 18, costo: 0.2822418808937073, accuracy: 0.922607421875\n",
            "Epoch: 19, costo: 0.3431542217731476, accuracy: 0.916259765625\n",
            "Epoch: 20, costo: 0.2677977979183197, accuracy: 0.92822265625\n",
            "Epoch: 21, costo: 0.2601717412471771, accuracy: 0.923583984375\n",
            "Epoch: 22, costo: 0.26414552330970764, accuracy: 0.928466796875\n",
            "Epoch: 23, costo: 0.2593436539173126, accuracy: 0.9296875\n",
            "Epoch: 24, costo: 0.2583388686180115, accuracy: 0.929443359375\n",
            "Epoch: 25, costo: 0.2779824733734131, accuracy: 0.927001953125\n",
            "Epoch: 26, costo: 0.2900583744049072, accuracy: 0.930419921875\n",
            "Epoch: 27, costo: 0.25145378708839417, accuracy: 0.928955078125\n",
            "Epoch: 28, costo: 0.22870858013629913, accuracy: 0.93115234375\n",
            "Epoch: 29, costo: 0.26675063371658325, accuracy: 0.938232421875\n",
            "Epoch: 30, costo: 0.22324536740779877, accuracy: 0.93017578125\n",
            "Epoch: 31, costo: 0.24396759271621704, accuracy: 0.932373046875\n",
            "Epoch: 32, costo: 0.20843495428562164, accuracy: 0.934814453125\n",
            "Epoch: 33, costo: 0.20440420508384705, accuracy: 0.93359375\n",
            "Epoch: 34, costo: 0.22115838527679443, accuracy: 0.943603515625\n",
            "Epoch: 35, costo: 0.22538091242313385, accuracy: 0.935302734375\n",
            "Epoch: 36, costo: 0.2107509821653366, accuracy: 0.9423828125\n",
            "Epoch: 37, costo: 0.23610924184322357, accuracy: 0.940673828125\n",
            "Epoch: 38, costo: 0.20412030816078186, accuracy: 0.945068359375\n",
            "Epoch: 39, costo: 0.22208701074123383, accuracy: 0.94189453125\n",
            "Epoch: 40, costo: 0.18418145179748535, accuracy: 0.942626953125\n",
            "Epoch: 41, costo: 0.18258477747440338, accuracy: 0.941650390625\n",
            "Epoch: 42, costo: 0.2041139006614685, accuracy: 0.943603515625\n",
            "Epoch: 43, costo: 0.1885058879852295, accuracy: 0.946533203125\n",
            "Epoch: 44, costo: 0.19165587425231934, accuracy: 0.94677734375\n",
            "Epoch: 45, costo: 0.20034706592559814, accuracy: 0.948486328125\n",
            "Epoch: 46, costo: 0.19310754537582397, accuracy: 0.947265625\n",
            "Epoch: 47, costo: 0.19740338623523712, accuracy: 0.94970703125\n",
            "Epoch: 48, costo: 0.17315389215946198, accuracy: 0.951416015625\n",
            "Epoch: 49, costo: 0.15026362240314484, accuracy: 0.953369140625\n",
            "Epoch: 50, costo: 0.2022102177143097, accuracy: 0.94921875\n",
            "Epoch: 51, costo: 0.18263036012649536, accuracy: 0.949951171875\n",
            "Epoch: 52, costo: 0.158938467502594, accuracy: 0.95654296875\n",
            "Epoch: 53, costo: 0.18487846851348877, accuracy: 0.95458984375\n",
            "Epoch: 54, costo: 0.17708343267440796, accuracy: 0.953857421875\n",
            "Epoch: 55, costo: 0.12406796216964722, accuracy: 0.958984375\n",
            "Epoch: 56, costo: 0.17029032111167908, accuracy: 0.95458984375\n",
            "Epoch: 57, costo: 0.16477659344673157, accuracy: 0.959716796875\n",
            "Epoch: 58, costo: 0.1472715437412262, accuracy: 0.961669921875\n",
            "Epoch: 59, costo: 0.17475365102291107, accuracy: 0.955078125\n",
            "Epoch: 60, costo: 0.16501173377037048, accuracy: 0.960205078125\n",
            "Epoch: 61, costo: 0.1919819563627243, accuracy: 0.958984375\n",
            "Epoch: 62, costo: 0.16558422148227692, accuracy: 0.954345703125\n",
            "Epoch: 63, costo: 0.1629076898097992, accuracy: 0.95751953125\n",
            "Epoch: 64, costo: 0.15247483551502228, accuracy: 0.958740234375\n",
            "Epoch: 65, costo: 0.12110420316457748, accuracy: 0.96044921875\n",
            "Epoch: 66, costo: 0.18349649012088776, accuracy: 0.96044921875\n",
            "Epoch: 67, costo: 0.13520419597625732, accuracy: 0.960205078125\n",
            "Epoch: 68, costo: 0.12319023162126541, accuracy: 0.9580078125\n",
            "Epoch: 69, costo: 0.18991121649742126, accuracy: 0.9658203125\n",
            "Epoch: 70, costo: 0.16308283805847168, accuracy: 0.957275390625\n",
            "Epoch: 71, costo: 0.13373596966266632, accuracy: 0.961669921875\n",
            "Epoch: 72, costo: 0.14072735607624054, accuracy: 0.9599609375\n",
            "Epoch: 73, costo: 0.1253781020641327, accuracy: 0.958984375\n",
            "Epoch: 74, costo: 0.09457656741142273, accuracy: 0.95947265625\n",
            "Epoch: 75, costo: 0.13338437676429749, accuracy: 0.96044921875\n",
            "Epoch: 76, costo: 0.15673692524433136, accuracy: 0.96044921875\n",
            "Epoch: 77, costo: 0.14648187160491943, accuracy: 0.957275390625\n",
            "Epoch: 78, costo: 0.14916780591011047, accuracy: 0.96240234375\n",
            "Epoch: 79, costo: 0.14070749282836914, accuracy: 0.96435546875\n",
            "Epoch: 80, costo: 0.1201930046081543, accuracy: 0.963134765625\n",
            "Epoch: 81, costo: 0.1634565144777298, accuracy: 0.963134765625\n",
            "Epoch: 82, costo: 0.15431883931159973, accuracy: 0.962890625\n",
            "Epoch: 83, costo: 0.12082423269748688, accuracy: 0.96484375\n",
            "Epoch: 84, costo: 0.10456015169620514, accuracy: 0.96142578125\n",
            "Epoch: 85, costo: 0.13706819713115692, accuracy: 0.961181640625\n",
            "Epoch: 86, costo: 0.11128916591405869, accuracy: 0.965576171875\n",
            "Epoch: 87, costo: 0.11818669736385345, accuracy: 0.96484375\n",
            "Epoch: 88, costo: 0.11421927064657211, accuracy: 0.96240234375\n",
            "Epoch: 89, costo: 0.10724522173404694, accuracy: 0.96630859375\n",
            "Epoch: 90, costo: 0.12774525582790375, accuracy: 0.966552734375\n",
            "Epoch: 91, costo: 0.1145046278834343, accuracy: 0.96533203125\n",
            "Epoch: 92, costo: 0.12599609792232513, accuracy: 0.964111328125\n",
            "Epoch: 93, costo: 0.10972628742456436, accuracy: 0.965087890625\n",
            "Epoch: 94, costo: 0.11575499922037125, accuracy: 0.96923828125\n",
            "Epoch: 95, costo: 0.11928127706050873, accuracy: 0.96826171875\n",
            "Epoch: 96, costo: 0.09710012376308441, accuracy: 0.966064453125\n",
            "Epoch: 97, costo: 0.13299322128295898, accuracy: 0.96484375\n",
            "Epoch: 98, costo: 0.11996664106845856, accuracy: 0.966064453125\n",
            "Epoch: 99, costo: 0.14245805144309998, accuracy: 0.96875\n"
          ]
        }
      ]
    },
    {
      "cell_type": "code",
      "source": [
        "accuracy(model1, x_test_tensor,  y_test_tensor, mb_size)"
      ],
      "metadata": {
        "colab": {
          "base_uri": "https://localhost:8080/"
        },
        "id": "zLJ6CXtmu2Yl",
        "outputId": "9c787ec7-b1b1-430d-b13d-f77afe4ec73b"
      },
      "execution_count": 27,
      "outputs": [
        {
          "output_type": "execute_result",
          "data": {
            "text/plain": [
              "0.960693359375"
            ]
          },
          "metadata": {},
          "execution_count": 27
        }
      ]
    }
  ]
}